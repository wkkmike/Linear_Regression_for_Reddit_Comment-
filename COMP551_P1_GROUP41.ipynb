{
 "cells": [
  {
   "cell_type": "code",
   "execution_count": 14,
   "metadata": {},
   "outputs": [],
   "source": [
    "import json\n",
    "import numpy as np"
   ]
  },
  {
   "cell_type": "code",
   "execution_count": 15,
   "metadata": {},
   "outputs": [
    {
     "name": "stdout",
     "output_type": "stream",
     "text": [
      "text : ITS RAINING SIDEWAYS\n",
      "is_root : False\n",
      "controversiality : 0\n",
      "children : 0\n",
      "popularity_score : 1.254698160267241\n"
     ]
    }
   ],
   "source": [
    "with open(\"proj1_data.json\") as fp:\n",
    "    data = json.load(fp)\n",
    "\n",
    "data_point = data[0]\n",
    "for info_name, info_value in data_point.items():\n",
    "    print(info_name + \" : \" + str(info_value))"
   ]
  },
  {
   "cell_type": "code",
   "execution_count": 16,
   "metadata": {},
   "outputs": [],
   "source": [
    "# pre-process the text field\n",
    "for item in data:\n",
    "    item[\"text\"] = item[\"text\"].lower().split()"
   ]
  },
  {
   "cell_type": "code",
   "execution_count": 17,
   "metadata": {},
   "outputs": [],
   "source": [
    "# split the data set.\n",
    "training_set = data[:10000]\n",
    "validation_set = data[10000:11000]\n",
    "test_set = data[11000:]"
   ]
  },
  {
   "cell_type": "code",
   "execution_count": 18,
   "metadata": {},
   "outputs": [],
   "source": [
    "# Find words recurring number (words_count)\n",
    "word_counts = {}\n",
    "for data_point in training_set:\n",
    "    for words in data_point['text']:\n",
    "        if words in word_counts:\n",
    "            word_counts[words] = word_counts[words] + 1\n",
    "        else:\n",
    "            word_counts[words] = 1\n",
    "            \n",
    "# Sorts from high to low amd trim to size 160\n",
    "word_counts = sorted(word_counts.items(), key=lambda kv: kv[1], reverse=True)\n",
    "word_counts = word_counts[:160]"
   ]
  },
  {
   "cell_type": "code",
   "execution_count": 19,
   "metadata": {},
   "outputs": [],
   "source": [
    "# The 160 most frequently occurring words (feature_name_list)\n",
    "feature_name_list = {}\n",
    "count = 0;\n",
    "for key in word_counts:\n",
    "    feature_name_list[key[0]] = count\n",
    "    count = count + 1"
   ]
  },
  {
   "cell_type": "code",
   "execution_count": 20,
   "metadata": {},
   "outputs": [],
   "source": [
    "# bulid the feature matrix\n",
    "data_feature_matrix = np.full((10000, 160), 0)\n",
    "count = 0\n",
    "for data_point in training_set:\n",
    "    for words in data_point['text']:\n",
    "        if words in feature_name_list:\n",
    "            data_feature_matrix[count][feature_name_list[words]] = data_feature_matrix[count][feature_name_list[words]] + 1\n",
    "    count = count + 1      "
   ]
  },
  {
   "cell_type": "code",
   "execution_count": 21,
   "metadata": {},
   "outputs": [],
   "source": [
    "# split the data set.\n",
    "value_vector = np.zeros(12000)\n",
    "count = 0\n",
    "for data_point in data:\n",
    "    value_vector[count] = data_point[\"popularity_score\"]\n",
    "    count = count + 1\n",
    "training_set_value_vector = value_vector[:10000]\n",
    "validation_set_value_vector = value_vector[10000:11000]\n",
    "test_set_value_vector = value_vector[11000:]"
   ]
  },
  {
   "cell_type": "code",
   "execution_count": 22,
   "metadata": {},
   "outputs": [],
   "source": [
    "def mean_square_error(predict, true):\n",
    "    return (np.square(A - B)).mean(axis=None)"
   ]
  },
  {
   "cell_type": "code",
   "execution_count": 23,
   "metadata": {},
   "outputs": [
    {
     "ename": "SyntaxError",
     "evalue": "invalid syntax (<ipython-input-23-d69d1d6bc63a>, line 1)",
     "output_type": "error",
     "traceback": [
      "\u001b[1;36m  File \u001b[1;32m\"<ipython-input-23-d69d1d6bc63a>\"\u001b[1;36m, line \u001b[1;32m1\u001b[0m\n\u001b[1;33m    def close_form\u001b[0m\n\u001b[1;37m                  ^\u001b[0m\n\u001b[1;31mSyntaxError\u001b[0m\u001b[1;31m:\u001b[0m invalid syntax\n"
     ]
    }
   ],
   "source": [
    "def close_form"
   ]
  },
  {
   "cell_type": "code",
   "execution_count": null,
   "metadata": {},
   "outputs": [],
   "source": []
  }
 ],
 "metadata": {
  "kernelspec": {
   "display_name": "Python 3",
   "language": "python",
   "name": "python3"
  },
  "language_info": {
   "codemirror_mode": {
    "name": "ipython",
    "version": 3
   },
   "file_extension": ".py",
   "mimetype": "text/x-python",
   "name": "python",
   "nbconvert_exporter": "python",
   "pygments_lexer": "ipython3",
   "version": "3.7.1"
  }
 },
 "nbformat": 4,
 "nbformat_minor": 2
}
