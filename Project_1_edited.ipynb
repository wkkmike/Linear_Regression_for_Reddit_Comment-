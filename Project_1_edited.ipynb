{
 "cells": [
  {
   "cell_type": "code",
   "execution_count": 1,
   "metadata": {},
   "outputs": [],
   "source": [
    "import json # we need to use the JSON package to load the data, since the data is stored in JSON format\n",
    "import numpy as np\n",
    "import matplotlib.pyplot as plt\n",
    "import timeit\n",
    "from sklearn.linear_model import LinearRegression\n",
    "from sklearn.metrics import mean_squared_error\n",
    "from nltk.corpus import stopwords\n",
    "from nltk.tokenize import word_tokenize\n",
    "from nltk.stem import WordNetLemmatizer"
   ]
  },
  {
   "cell_type": "code",
   "execution_count": 2,
   "metadata": {},
   "outputs": [],
   "source": [
    "# Lowercase the text and split by whitespace\n",
    "def preprocess_simple(data):\n",
    "    data1 = data.copy()\n",
    "    for data_point in data1:\n",
    "        data_point[\"text\"] = data_point[\"text\"].lower().split()\n",
    "    return data1"
   ]
  },
  {
   "cell_type": "code",
   "execution_count": 3,
   "metadata": {},
   "outputs": [],
   "source": [
    "# Preprocessing using nltk package, tokenize, lemmatize, and remove unrelevant symbol\n",
    "def preprocess_new_feature(data):\n",
    "    data1 = data.copy()\n",
    "    wordnet_lemmatizer = WordNetLemmatizer()\n",
    "    for data_point in data:\n",
    "        data_point[\"text\"] = word_tokenize(data_point[\"text\"])\n",
    "        data_point[\"text\"] = [w.lower() for w in data_point[\"text\"]]\n",
    "        data_point[\"text\"] = [wordnet_lemmatizer.lemmatize(w) for w in data_point[\"text\"]]\n",
    "        data_point[\"text\"] = [w for w in data_point[\"text\"] if not w in ['.', ',', \"'\", '\"', \"?\", \"!\", \"[\", \"]\", '(', ')', '-', '...'\n",
    "           , \"''\", '``',\":\", \" \"]]\n",
    "    return data1"
   ]
  },
  {
   "cell_type": "code",
   "execution_count": 4,
   "metadata": {},
   "outputs": [],
   "source": [
    "# Split data to training, validation and testing sets.\n",
    "def split_data(data):\n",
    "    train_data = data[:10000]\n",
    "    val_data = data[10000:11000]\n",
    "    test_data = data[11000:]\n",
    "    return train_data, val_data, test_data"
   ]
  },
  {
   "cell_type": "code",
   "execution_count": 5,
   "metadata": {},
   "outputs": [],
   "source": [
    "# Return words count matrix\n",
    "# num specify top-n words count return\n",
    "def words_count(data, num=60):\n",
    "    words_recurrence = {}\n",
    "    for data_point in data:\n",
    "        for word in data_point[\"text\"]:\n",
    "            if word in words_recurrence:\n",
    "                words_recurrence[word] += 1\n",
    "            else:\n",
    "                words_recurrence[word] = 1\n",
    "    words_recurrence = sorted(words_recurrence.items(), key=lambda kv: kv[1], reverse=True)\n",
    "    words_recurrence = words_recurrence[:num]\n",
    "    return words_recurrence"
   ]
  },
  {
   "cell_type": "code",
   "execution_count": 6,
   "metadata": {},
   "outputs": [],
   "source": [
    "# Get feature matrix given data.\n",
    "# Num specify the number of points.\n",
    "def feature_extraction(data, num, words_recurrence):\n",
    "    w = {}\n",
    "    i = 0\n",
    "    for word in words_recurrence:\n",
    "        w[word[0]] = i\n",
    "        i += 1\n",
    "    feature_num = len(words_recurrence)\n",
    "    x = np.zeros((num, feature_num))\n",
    "    i = 0\n",
    "    for data_point in data:\n",
    "        for word in data_point[\"text\"]:\n",
    "            if word in w:\n",
    "                x[i, w[word]] += 1\n",
    "        i += 1\n",
    "    return x;"
   ]
  },
  {
   "cell_type": "code",
   "execution_count": 7,
   "metadata": {},
   "outputs": [],
   "source": [
    "# Add bias term to the data matrix\n",
    "def add_bias(matrix):\n",
    "    x_dataset_bias = np.ones((matrix.shape[0], matrix.shape[1]+1))\n",
    "    x_dataset_bias[:,:-1] = matrix\n",
    "    return x_dataset_bias"
   ]
  },
  {
   "cell_type": "code",
   "execution_count": 8,
   "metadata": {},
   "outputs": [],
   "source": [
    "# Calculate the mean square error\n",
    "def mse(predict, true):\n",
    "    return (np.square(predict - true).mean(axis=None))"
   ]
  },
  {
   "cell_type": "markdown",
   "metadata": {},
   "source": [
    "## Task 1"
   ]
  },
  {
   "cell_type": "markdown",
   "metadata": {},
   "source": [
    "This cluster of code, will divided the data into training, validation and testing sets. and **print the top 160 words in the training sets.**"
   ]
  },
  {
   "cell_type": "code",
   "execution_count": 9,
   "metadata": {},
   "outputs": [
    {
     "data": {
      "text/plain": [
       "['the',\n",
       " 'i',\n",
       " 'a',\n",
       " 'to',\n",
       " 'and',\n",
       " 'of',\n",
       " 'you',\n",
       " 'that',\n",
       " 'in',\n",
       " 'it',\n",
       " 'was',\n",
       " 'is',\n",
       " 'my',\n",
       " 'for',\n",
       " 'have',\n",
       " 'but',\n",
       " 'this',\n",
       " 'with',\n",
       " 'on',\n",
       " 'not',\n",
       " 'be',\n",
       " 'just',\n",
       " 'or',\n",
       " 'if',\n",
       " 'they',\n",
       " 'your',\n",
       " 'so',\n",
       " 'like',\n",
       " 'are',\n",
       " 'at',\n",
       " 'me',\n",
       " 'as',\n",
       " 'he',\n",
       " \"it's\",\n",
       " 'she',\n",
       " \"i'm\",\n",
       " 'about',\n",
       " 'when',\n",
       " 'we',\n",
       " 'all',\n",
       " 'because',\n",
       " 'from',\n",
       " 'her',\n",
       " 'out',\n",
       " 'would',\n",
       " 'get',\n",
       " \"don't\",\n",
       " 'had',\n",
       " 'what',\n",
       " 'one',\n",
       " 'up',\n",
       " 'people',\n",
       " 'can',\n",
       " 'an',\n",
       " 'do',\n",
       " '[deleted]',\n",
       " 'some',\n",
       " 'how',\n",
       " 'any',\n",
       " 'really',\n",
       " 'his',\n",
       " 'then',\n",
       " 'think',\n",
       " 'no',\n",
       " 'more',\n",
       " 'there',\n",
       " 'their',\n",
       " 'who',\n",
       " 'were',\n",
       " 'will',\n",
       " 'it.',\n",
       " 'them',\n",
       " 'by',\n",
       " 'has',\n",
       " 'only',\n",
       " 'time',\n",
       " 'go',\n",
       " 'know',\n",
       " 'even',\n",
       " 'got',\n",
       " 'been',\n",
       " 'good',\n",
       " 'new',\n",
       " 'after',\n",
       " \"you're\",\n",
       " 'never',\n",
       " 'please',\n",
       " 'make',\n",
       " 'than',\n",
       " 'am',\n",
       " 'still',\n",
       " \"that's\",\n",
       " 'him',\n",
       " 'did',\n",
       " 'being',\n",
       " 'into',\n",
       " 'much',\n",
       " \"didn't\",\n",
       " 'other',\n",
       " 'something',\n",
       " 'going',\n",
       " 'could',\n",
       " 'post',\n",
       " 'first',\n",
       " 'way',\n",
       " 'where',\n",
       " 'also',\n",
       " 'want',\n",
       " 'over',\n",
       " '-',\n",
       " 'most',\n",
       " \"can't\",\n",
       " 'say',\n",
       " 'see',\n",
       " 'pretty',\n",
       " 'why',\n",
       " 'season',\n",
       " 'back',\n",
       " \"i've\",\n",
       " 'very',\n",
       " 'always',\n",
       " 'made',\n",
       " 'love',\n",
       " 'our',\n",
       " 'questions',\n",
       " 'now',\n",
       " 'every',\n",
       " 'which',\n",
       " 'before',\n",
       " 'show',\n",
       " 'fucking',\n",
       " 'moderators',\n",
       " 'too',\n",
       " 'shit',\n",
       " 'actually',\n",
       " 'friends',\n",
       " 'off',\n",
       " 'fuck',\n",
       " 'years',\n",
       " 'feel',\n",
       " 'its',\n",
       " 'me.',\n",
       " 'should',\n",
       " 'same',\n",
       " 'use',\n",
       " 'things',\n",
       " 'few',\n",
       " 'lot',\n",
       " 'action',\n",
       " '[contact',\n",
       " 'life',\n",
       " \"doesn't\",\n",
       " 'best',\n",
       " 'those',\n",
       " 'thing',\n",
       " 'said',\n",
       " 'while',\n",
       " 'someone',\n",
       " 'performed',\n",
       " 'right']"
      ]
     },
     "execution_count": 9,
     "metadata": {},
     "output_type": "execute_result"
    }
   ],
   "source": [
    "# Open the file\n",
    "with open(\"proj1_data.json\") as fp:\n",
    "    data = json.load(fp)\n",
    "data_processed = preprocess_simple(data)\n",
    "\n",
    "# split data\n",
    "train_data, val_data, test_data = split_data(data_processed)\n",
    "words_top160 = words_count(train_data, num=160)\n",
    "words_list = []\n",
    "for word in words_top160:\n",
    "    words_list.append(word[0])\n",
    "words_list"
   ]
  },
  {
   "cell_type": "markdown",
   "metadata": {},
   "source": [
    "## Task2"
   ]
  },
  {
   "cell_type": "markdown",
   "metadata": {},
   "source": [
    "### Closed form solution"
   ]
  },
  {
   "cell_type": "code",
   "execution_count": 10,
   "metadata": {},
   "outputs": [],
   "source": [
    "# Closed form solution for linear regression\n",
    "def closed_form(X, y):\n",
    "    #return np.linalg.inv(np.transpose(X) @ X) @ np.transpose(X) @ y\n",
    "    return np.dot(np.dot(np.linalg.inv(np.dot(np.transpose(X), X)), np.transpose(X)), y)"
   ]
  },
  {
   "cell_type": "markdown",
   "metadata": {},
   "source": [
    "### Gradient descent solution"
   ]
  },
  {
   "cell_type": "code",
   "execution_count": 11,
   "metadata": {},
   "outputs": [],
   "source": [
    "# Gradient descent solution for linear regression\n",
    "def gradient_descent(X, y, beta, n0, eps, show=False):\n",
    "    i = 1\n",
    "    weight = np.random.rand(X.shape[1])\n",
    "    a1 = np.transpose(X) @ X\n",
    "    a2 = np.transpose(X) @ y\n",
    "    while True:\n",
    "        alpha = n0/((1+beta*i) * 10000)\n",
    "        weight_new = weight - 2*alpha * (a1@weight - a2)\n",
    "        difference = np.linalg.norm(weight_new - weight, ord=2)\n",
    "        weight = weight_new\n",
    "        i += 1   \n",
    "        if show:\n",
    "            if(i % 1000 == 0):\n",
    "                print(\"Iteration: \" + str(i) + \". Difference: \" + str(difference))\n",
    "        if (difference < eps):\n",
    "            break\n",
    "    return weight"
   ]
  },
  {
   "cell_type": "markdown",
   "metadata": {},
   "source": [
    "## Task 3"
   ]
  },
  {
   "cell_type": "markdown",
   "metadata": {},
   "source": [
    "construct matrix for 160 features"
   ]
  },
  {
   "cell_type": "code",
   "execution_count": 12,
   "metadata": {},
   "outputs": [],
   "source": [
    "with open(\"proj1_data.json\") as fp:\n",
    "    data = json.load(fp)\n",
    "data_processed = preprocess_simple(data)\n",
    "\n",
    "# split data\n",
    "train_data, val_data, test_data = split_data(data_processed)\n",
    "words_top160 = words_count(train_data, num=160)\n",
    "train_x_160 = add_bias(feature_extraction(train_data, 10000, words_top160))\n",
    "val_x_160 = add_bias(feature_extraction(val_data, 1000, words_top160))\n",
    "test_x_160 = add_bias(feature_extraction(test_data, 1000, words_top160))"
   ]
  },
  {
   "cell_type": "markdown",
   "metadata": {},
   "source": [
    "construct matrix for 60 features"
   ]
  },
  {
   "cell_type": "code",
   "execution_count": 13,
   "metadata": {},
   "outputs": [],
   "source": [
    "with open(\"proj1_data.json\") as fp:\n",
    "    data = json.load(fp)\n",
    "data_processed = preprocess_simple(data)\n",
    "\n",
    "# split data\n",
    "train_data, val_data, test_data = split_data(data_processed)\n",
    "words_top60 = words_count(train_data, num=60)\n",
    "train_x_60 = add_bias(feature_extraction(train_data, 10000, words_top60))\n",
    "val_x_60 = add_bias(feature_extraction(val_data, 1000, words_top60))\n",
    "test_x_60 = add_bias(feature_extraction(test_data, 1000, words_top60))"
   ]
  },
  {
   "cell_type": "markdown",
   "metadata": {},
   "source": [
    "construct matrix for 3 features"
   ]
  },
  {
   "cell_type": "code",
   "execution_count": 14,
   "metadata": {},
   "outputs": [],
   "source": [
    "with open(\"proj1_data.json\") as fp:\n",
    "    data = json.load(fp)\n",
    "x_3 = np.zeros((12000, 3))\n",
    "i=0\n",
    "for data_point in data:\n",
    "    if data_point[\"is_root\"]:\n",
    "        x_3[i, 0] = 1\n",
    "    else:\n",
    "        x_3[i, 0] = 0\n",
    "    x_3[i, 1] = data_point[\"controversiality\"]\n",
    "    x_3[i, 2] = data_point[\"children\"]\n",
    "    i = i + 1\n",
    "train_x_3 = x_3[:10000]\n",
    "val_x_3 = x_3[10000:11000]\n",
    "test_x_3 = x_3[11000:]\n",
    "train_x_3 = add_bias(train_x_3)\n",
    "val_x_3 = add_bias(val_x_3)\n",
    "test_x_3 = add_bias(test_x_3)"
   ]
  },
  {
   "cell_type": "markdown",
   "metadata": {},
   "source": [
    "Construct y-matrix"
   ]
  },
  {
   "cell_type": "code",
   "execution_count": 15,
   "metadata": {},
   "outputs": [],
   "source": [
    "with open(\"proj1_data.json\") as fp:\n",
    "    data = json.load(fp)\n",
    "y = np.zeros(12000)\n",
    "i = 0\n",
    "for data_point in data:\n",
    "    y[i] = data_point[\"popularity_score\"]\n",
    "    i += 1\n",
    "y_train = y[:10000]\n",
    "y_val = y[10000:11000]\n",
    "y_test = y[11000:]"
   ]
  },
  {
   "cell_type": "markdown",
   "metadata": {},
   "source": [
    "### Running time comparation"
   ]
  },
  {
   "cell_type": "code",
   "execution_count": 16,
   "metadata": {},
   "outputs": [
    {
     "name": "stdout",
     "output_type": "stream",
     "text": [
      "Iteration: 1000. Difference: 0.00012787223407310453\n",
      "Iteration: 2000. Difference: 5.354418816759236e-05\n",
      "Iteration: 3000. Difference: 3.1926199544557356e-05\n",
      "Iteration: 4000. Difference: 2.2116213352115414e-05\n",
      "Iteration: 5000. Difference: 1.664982781934928e-05\n",
      "Iteration: 6000. Difference: 1.3215454707970927e-05\n",
      "Iteration: 7000. Difference: 1.088020189933746e-05\n",
      "Iteration: 8000. Difference: 9.200636951288156e-06\n",
      "Iteration: 9000. Difference: 7.940917462573986e-06\n",
      "Iteration: 10000. Difference: 6.964845358581287e-06\n",
      "Iteration: 11000. Difference: 6.188645035297141e-06\n",
      "Iteration: 12000. Difference: 5.55814611699794e-06\n",
      "Iteration: 13000. Difference: 5.036870510306303e-06\n",
      "Iteration: 14000. Difference: 4.599413537155784e-06\n",
      "Iteration: 15000. Difference: 4.2275735995353736e-06\n",
      "Iteration: 16000. Difference: 3.90799004034711e-06\n",
      "Iteration: 17000. Difference: 3.6306480383324143e-06\n",
      "Iteration: 18000. Difference: 3.387902149627498e-06\n",
      "Iteration: 19000. Difference: 3.1738209336265876e-06\n",
      "Iteration: 20000. Difference: 2.9837364041300655e-06\n",
      "Iteration: 21000. Difference: 2.8139276412286045e-06\n",
      "Iteration: 22000. Difference: 2.66139436062563e-06\n",
      "Iteration: 23000. Difference: 2.523692083497125e-06\n",
      "Iteration: 24000. Difference: 2.398810288507732e-06\n",
      "Iteration: 25000. Difference: 2.2850810735812927e-06\n",
      "Iteration: 26000. Difference: 2.181109812076683e-06\n",
      "Iteration: 27000. Difference: 2.0857218896647513e-06\n",
      "Iteration: 28000. Difference: 1.997921354206601e-06\n",
      "Iteration: 29000. Difference: 1.9168584953174173e-06\n",
      "Iteration: 30000. Difference: 1.8418041919736391e-06\n",
      "Iteration: 31000. Difference: 1.7721294436671491e-06\n",
      "Iteration: 32000. Difference: 1.707288907289401e-06\n",
      "Iteration: 33000. Difference: 1.6468075594767703e-06\n",
      "Iteration: 34000. Difference: 1.5902698156767064e-06\n",
      "Iteration: 35000. Difference: 1.5373105963369867e-06\n",
      "Iteration: 36000. Difference: 1.487607947974931e-06\n",
      "Iteration: 37000. Difference: 1.440876912902689e-06\n",
      "Iteration: 38000. Difference: 1.3968644090306618e-06\n",
      "Iteration: 39000. Difference: 1.3553449327806168e-06\n",
      "Iteration: 40000. Difference: 1.3161169335326716e-06\n",
      "Iteration: 41000. Difference: 1.2789997431385316e-06\n",
      "Iteration: 42000. Difference: 1.243830961952982e-06\n",
      "Iteration: 43000. Difference: 1.2104642263056765e-06\n",
      "Iteration: 44000. Difference: 1.1787672932544515e-06\n",
      "Iteration: 45000. Difference: 1.1486203921235092e-06\n",
      "Iteration: 46000. Difference: 1.1199147996642878e-06\n",
      "Iteration: 47000. Difference: 1.092551605880473e-06\n",
      "Iteration: 48000. Difference: 1.0664406402179656e-06\n",
      "Iteration: 49000. Difference: 1.0414995347197892e-06\n",
      "Iteration: 50000. Difference: 1.0176529051493793e-06\n"
     ]
    }
   ],
   "source": [
    "start = timeit.default_timer()\n",
    "weights_cf = closed_form(train_x_3, y_train)\n",
    "end = timeit.default_timer()\n",
    "run_time_cf = end - start\n",
    "start = timeit.default_timer()\n",
    "weights_gd = gradient_descent(train_x_3, y_train, beta=10e-3, n0=10e-3, eps= 1 * 10e-07, show=True)\n",
    "end = timeit.default_timer()\n",
    "run_time_gd = end - start"
   ]
  },
  {
   "cell_type": "code",
   "execution_count": 17,
   "metadata": {},
   "outputs": [
    {
     "name": "stdout",
     "output_type": "stream",
     "text": [
      "Running time for closed form with 3 features is: 0.02937984s.\n",
      "Running time for gradient descent with 3 features is : 0.9168887466666666s.\n"
     ]
    }
   ],
   "source": [
    "print(\"Running time for closed form with 3 features is: \" + str(run_time_cf) + \"s.\")\n",
    "print(\"Running time for gradient descent with 3 features is : \" + str(run_time_gd) + \"s.\")"
   ]
  },
  {
   "cell_type": "markdown",
   "metadata": {},
   "source": [
    "### MSE comparation"
   ]
  },
  {
   "cell_type": "code",
   "execution_count": 18,
   "metadata": {},
   "outputs": [],
   "source": [
    "mse_cf = mse(np.dot(val_x_3, weights_cf), y_val)\n",
    "mse_gd = mse(np.dot(val_x_3, weights_gd), y_val)"
   ]
  },
  {
   "cell_type": "code",
   "execution_count": 19,
   "metadata": {},
   "outputs": [
    {
     "name": "stdout",
     "output_type": "stream",
     "text": [
      "MSE for closed form with 3 features is: 1.0203266848431447\n",
      "MSE for gradient descent with 3 features is: 1.0556234116103622\n"
     ]
    }
   ],
   "source": [
    "print(\"MSE for closed form with 3 features is: \" + str(mse_cf))\n",
    "print(\"MSE for gradient descent with 3 features is: \" + str(mse_gd))"
   ]
  },
  {
   "cell_type": "markdown",
   "metadata": {},
   "source": [
    "### Stability"
   ]
  },
  {
   "cell_type": "code",
   "execution_count": 20,
   "metadata": {},
   "outputs": [
    {
     "name": "stdout",
     "output_type": "stream",
     "text": [
      "Run 5 times for closed form:\n",
      "[-0.22627679 -1.08584747  0.37536403  0.82092517]\n",
      "[-0.22627679 -1.08584747  0.37536403  0.82092517]\n",
      "[-0.22627679 -1.08584747  0.37536403  0.82092517]\n",
      "[-0.22627679 -1.08584747  0.37536403  0.82092517]\n",
      "[-0.22627679 -1.08584747  0.37536403  0.82092517]\n",
      "Run 5 times for gradient descent (same hyperparameter):\n",
      "[-0.13489537 -0.0609568   0.3769714   0.76058652]\n",
      "[-0.18031909  0.13550742  0.37408282  0.78357152]\n",
      "[-0.14285561  0.54082155  0.37478597  0.75898164]\n",
      "[-0.14083038  0.4558779   0.37514093  0.75871157]\n",
      "[-0.14715919  0.29194423  0.37530344  0.76381643]\n"
     ]
    }
   ],
   "source": [
    "print(\"Run 5 times for closed form:\")\n",
    "for i in range(5):\n",
    "    weights_cf = closed_form(train_x_3, y_train)\n",
    "    print(weights_cf)\n",
    "print(\"Run 5 times for gradient descent (same hyperparameter):\")\n",
    "for i in range(5):\n",
    "    weights_gd = gradient_descent(train_x_3, y_train, beta=10e-3, n0=10e-3, eps= 1 * 10e-07)\n",
    "    print(weights_gd)"
   ]
  },
  {
   "cell_type": "markdown",
   "metadata": {},
   "source": [
    "### Performance comparasion for different feature"
   ]
  },
  {
   "cell_type": "markdown",
   "metadata": {},
   "source": [
    "We use **closed form** in our comparasion."
   ]
  },
  {
   "cell_type": "code",
   "execution_count": 21,
   "metadata": {},
   "outputs": [],
   "source": [
    "weights_3 = closed_form(train_x_3, y_train)\n",
    "weights_60 = closed_form(train_x_60, y_train)\n",
    "weights_160 = closed_form(train_x_160, y_train)\n",
    "mse_3_train = mse(np.dot(train_x_3, weights_3), y_train)\n",
    "mse_3_val = mse(np.dot(val_x_3, weights_3), y_val)\n",
    "mse_60_train = mse(np.dot(train_x_60, weights_60), y_train)\n",
    "mse_60_val = mse(np.dot(val_x_60, weights_60), y_val)\n",
    "mse_160_train = mse(np.dot(train_x_160, weights_160), y_train)\n",
    "mse_160_val = mse(np.dot(val_x_160, weights_160), y_val)"
   ]
  },
  {
   "cell_type": "code",
   "execution_count": 22,
   "metadata": {},
   "outputs": [
    {
     "data": {
      "text/plain": [
       "[<matplotlib.lines.Line2D at 0x155d4eb8630>,\n",
       " <matplotlib.lines.Line2D at 0x155d4eb8b00>]"
      ]
     },
     "execution_count": 22,
     "metadata": {},
     "output_type": "execute_result"
    },
    {
     "data": {
      "image/png": "[encoded data removed]",
      "text/plain": [
       "<Figure size 432x288 with 3 Axes>"
      ]
     },
     "metadata": {},
     "output_type": "display_data"
    }
   ],
   "source": [
    "estimation_3_train = np.dot(val_x_3,weights_3)\n",
    "estimation_3 = np.dot(val_x_3,weights_3)\n",
    "estimation_60_train = np.dot(train_x_60,weights_60)\n",
    "estimation_60 = np.dot(val_x_60,weights_60)\n",
    "estimation_160_train = np.dot(train_x_160,weights_160)\n",
    "estimation_160 = np.dot(val_x_160,weights_160)\n",
    "plt.subplot(2,2,1)\n",
    "plt.plot(y_val,'ro',estimation_3,'go')\n",
    "plt.subplot(2,2,2)\n",
    "plt.plot(y_val,'ro',estimation_60,'go')\n",
    "plt.subplot(2,2,3)\n",
    "plt.plot(y_val,'ro',estimation_160,'go')"
   ]
  },
  {
   "cell_type": "markdown",
   "metadata": {},
   "source": [
    "Compare mse for train sets, validation sets for different feature"
   ]
  },
  {
   "cell_type": "code",
   "execution_count": 23,
   "metadata": {
    "scrolled": true
   },
   "outputs": [
    {
     "name": "stdout",
     "output_type": "stream",
     "text": [
      "MSE for training sets with no text feature:1.0846830709157251\n",
      "MSE for validation sets with no text feature:1.0203266848431447\n",
      "MSE for training sets with top 60 words:1.3357113742096964\n",
      "MSE for validation sets with top 60 words:1.2652963638167058\n",
      "MSE for training sets with top 160 words:1.3179296503478746\n",
      "MSE for validation sets with top 160 words:1.2917631409955965\n"
     ]
    }
   ],
   "source": [
    "print(\"MSE for training sets with no text feature:\" + str(mse_3_train))\n",
    "print(\"MSE for validation sets with no text feature:\" + str(mse_3_val))\n",
    "print(\"MSE for training sets with top 60 words:\" + str(mse_60_train))\n",
    "print(\"MSE for validation sets with top 60 words:\" + str(mse_60_val))\n",
    "print(\"MSE for training sets with top 160 words:\" + str(mse_160_train))\n",
    "print(\"MSE for validation sets with top 160 words:\" + str(mse_160_val))"
   ]
  },
  {
   "cell_type": "markdown",
   "metadata": {},
   "source": [
    "### First new feature"
   ]
  },
  {
   "cell_type": "code",
   "execution_count": 40,
   "metadata": {},
   "outputs": [
    {
     "name": "stdout",
     "output_type": "stream",
     "text": [
      "MSE for training sets with feature1:1.3359584843482215\n",
      "MSE for validation sets with feature1:1.257715103376247\n",
      "MSE for test sets with feature1:1.5781538538151407\n"
     ]
    },
    {
     "data": {
      "text/plain": [
       "[<matplotlib.lines.Line2D at 0x155d5323c18>,\n",
       " <matplotlib.lines.Line2D at 0x155d5323048>]"
      ]
     },
     "execution_count": 40,
     "metadata": {},
     "output_type": "execute_result"
    },
    {
     "data": {
      "image/png": "[encoded data removed]",
      "text/plain": [
       "<Figure size 432x288 with 1 Axes>"
      ]
     },
     "metadata": {},
     "output_type": "display_data"
    }
   ],
   "source": [
    "with open(\"proj1_data.json\") as fp:\n",
    "    data = json.load(fp)\n",
    "\n",
    "data_processed = preprocess_new_feature(data)\n",
    "\n",
    "# split data\n",
    "train_data, val_data, test_data = split_data(data_processed)\n",
    "\n",
    "words_top60 = words_count(train_data, num=60)\n",
    "\n",
    "train_x_f1_60 = add_bias(feature_extraction(train_data, 10000, words_top60))\n",
    "val_x_f1_60 = add_bias(feature_extraction(val_data, 1000, words_top60))\n",
    "test_x_f1_60 = add_bias(feature_extraction(test_data, 1000, words_top60))\n",
    "\n",
    "weights_f1_60 = closed_form(train_x_f1_60, y_train)\n",
    "\n",
    "mse_60_f1_train = mse(np.dot(train_x_f1_60, weights_f1_60), y_train)\n",
    "mse_60_f1_val = mse(np.dot(val_x_f1_60, weights_f1_60), y_val)\n",
    "mse_60_f1_test = mse(np.dot(test_x_f1_60, weights_f1_60), y_test)\n",
    "\n",
    "print(\"MSE for training sets with feature1:\" + str(mse_60_f1_train))\n",
    "print(\"MSE for validation sets with feature1:\" + str(mse_60_f1_val))\n",
    "print(\"MSE for test sets with feature1:\" + str(mse_60_f1_test))\n",
    "\n",
    "estimation_60_f1_train = np.dot(train_x_f1_60,weights_f1_60)\n",
    "estimation_60_f1 = np.dot(val_x_f1_60,weights_f1_60)\n",
    "plt.plot(y_val,'ro',estimation_60_f1,'go')"
   ]
  },
  {
   "cell_type": "markdown",
   "metadata": {},
   "source": [
    "### Second new feature"
   ]
  },
  {
   "cell_type": "code",
   "execution_count": 25,
   "metadata": {},
   "outputs": [],
   "source": [
    "# add the second new feature\n",
    "def add_newfeature(x_matrix,data):\n",
    "    x_new = np.zeros(12000)\n",
    "    j = 0\n",
    "    for data_point in data:\n",
    "        x_new[j] = (data_point[\"children\"]**2+data_point[\"controversiality\"]**3)\n",
    "        j += 1\n",
    "    data1=np.append(x_matrix,x_new.reshape(12000,1),axis = 1)\n",
    "    return(data1)"
   ]
  },
  {
   "cell_type": "code",
   "execution_count": 26,
   "metadata": {},
   "outputs": [],
   "source": [
    "# Construct matrx x_feature2\n",
    "x_f2_60 = feature_extraction(data_processed, 12000, words_top60)\n",
    "x_f2 = add_bias(add_newfeature(x_f2_60, data))\n",
    "# split x_feature2\n",
    "x_f2_train = x_f2[:10000]\n",
    "x_f2_val = x_f2[10000:11000]\n",
    "x_f2_test = x_f2[11000:]"
   ]
  },
  {
   "cell_type": "code",
   "execution_count": 27,
   "metadata": {},
   "outputs": [],
   "source": [
    "weight_f2_60 = closed_form(x_f2_train, y_train)\n",
    "mse_60_f2_train = mse(np.dot(x_f2_train, weight_f2_60), y_train)\n",
    "mse_60_f2_val = mse(np.dot(x_f2_val, weight_f2_60), y_val)\n",
    "mse_60_f2_test = mse(np.dot(x_f2_test, weight_f2_60), y_test)"
   ]
  },
  {
   "cell_type": "code",
   "execution_count": 28,
   "metadata": {},
   "outputs": [
    {
     "name": "stdout",
     "output_type": "stream",
     "text": [
      "MSE for training sets with feature2:1.2556586306875666\n",
      "MSE for validation sets with feature2:1.1632405973000193\n",
      "MSE for test sets with feature2:1.5144807757399503\n"
     ]
    }
   ],
   "source": [
    "print(\"MSE for training sets with feature2:\" + str(mse_60_f2_train))\n",
    "print(\"MSE for validation sets with feature2:\" + str(mse_60_f2_val))\n",
    "print(\"MSE for test sets with feature2:\" + str(mse_60_f2_test))"
   ]
  },
  {
   "cell_type": "code",
   "execution_count": 29,
   "metadata": {},
   "outputs": [
    {
     "data": {
      "text/plain": [
       "[<matplotlib.lines.Line2D at 0x155d2c5fb00>,\n",
       " <matplotlib.lines.Line2D at 0x155d2c62080>]"
      ]
     },
     "execution_count": 29,
     "metadata": {},
     "output_type": "execute_result"
    },
    {
     "data": {
      "image/png": "[encoded data removed]",
      "text/plain": [
       "<Figure size 432x288 with 1 Axes>"
      ]
     },
     "metadata": {},
     "output_type": "display_data"
    }
   ],
   "source": [
    "estimation_60_f2_train = np.dot(x_f2_train,weight_f2_60)\n",
    "estimation_60_f2 = np.dot(x_f2_val,weight_f2_60)\n",
    "plt.plot(y_val,'ro',estimation_60_f2,'go')"
   ]
  },
  {
   "cell_type": "markdown",
   "metadata": {},
   "source": [
    "### Final Model"
   ]
  },
  {
   "cell_type": "code",
   "execution_count": 34,
   "metadata": {},
   "outputs": [],
   "source": [
    "with open(\"proj1_data.json\") as fp:\n",
    "    data = json.load(fp)\n",
    "x_f = np.zeros((12000, 3))\n",
    "i=0\n",
    "for data_point in data:\n",
    "    if data_point[\"is_root\"]:\n",
    "        x_f[i, 0] = 1\n",
    "    else:\n",
    "        x_f[i, 0] = 0\n",
    "    x_f[i, 1] = data_point[\"controversiality\"]\n",
    "    x_f[i, 2] = data_point[\"children\"]\n",
    "    i = i + 1\n",
    "x_f=add_bias(np.append(add_newfeature(x_f2_60, data),x_f.reshape(12000,3),axis = 1))"
   ]
  },
  {
   "cell_type": "code",
   "execution_count": 35,
   "metadata": {},
   "outputs": [],
   "source": [
    "# split x_final\n",
    "x_f_train = x_f[:10000]\n",
    "x_f_val = x_f[10000:11000]\n",
    "x_f_test = x_f[11000:]"
   ]
  },
  {
   "cell_type": "code",
   "execution_count": 36,
   "metadata": {},
   "outputs": [],
   "source": [
    "weight_f = closed_form(x_f_train, y_train)\n",
    "mse_f_train = mse(np.dot(x_f_train, weight_f), y_train)\n",
    "mse_f_val = mse(np.dot(x_f_val, weight_f), y_val)\n",
    "mse_f_test = mse(np.dot(x_f_test, weight_f), y_test)"
   ]
  },
  {
   "cell_type": "code",
   "execution_count": 37,
   "metadata": {},
   "outputs": [
    {
     "data": {
      "text/plain": [
       "[<matplotlib.lines.Line2D at 0x155d4e55208>,\n",
       " <matplotlib.lines.Line2D at 0x155d2bfc1d0>]"
      ]
     },
     "execution_count": 37,
     "metadata": {},
     "output_type": "execute_result"
    },
    {
     "data": {
      "image/png": "[encoded data removed]",
      "text/plain": [
       "<Figure size 432x288 with 1 Axes>"
      ]
     },
     "metadata": {},
     "output_type": "display_data"
    }
   ],
   "source": [
    "estimation_f_train = np.dot(x_f_train,weight_f)\n",
    "estimation_f = np.dot(x_f_val,weight_f)\n",
    "plt.plot(y_val,'ro',estimation_60_f2,'go')"
   ]
  },
  {
   "cell_type": "code",
   "execution_count": null,
   "metadata": {},
   "outputs": [],
   "source": []
  },
  {
   "cell_type": "code",
   "execution_count": null,
   "metadata": {},
   "outputs": [],
   "source": []
  }
 ],
 "metadata": {
  "kernelspec": {
   "display_name": "Python 3",
   "language": "python",
   "name": "python3"
  },
  "language_info": {
   "codemirror_mode": {
    "name": "ipython",
    "version": 3
   },
   "file_extension": ".py",
   "mimetype": "text/x-python",
   "name": "python",
   "nbconvert_exporter": "python",
   "pygments_lexer": "ipython3",
   "version": "3.6.5"
  }
 },
 "nbformat": 4,
 "nbformat_minor": 2
}
