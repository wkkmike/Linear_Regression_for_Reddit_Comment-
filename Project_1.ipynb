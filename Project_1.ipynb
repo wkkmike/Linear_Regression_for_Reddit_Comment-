{
 "cells": [
  {
   "cell_type": "code",
   "execution_count": 2,
   "metadata": {},
   "outputs": [],
   "source": [
    "import json # we need to use the JSON package to load the data, since the data is stored in JSON format\n",
    "import numpy as np\n",
    "import matplotlib.pyplot as plt\n",
    "import timeit\n",
    "from sklearn.linear_model import LinearRegression\n",
    "from sklearn.metrics import mean_squared_error\n",
    "from nltk.corpus import stopwords\n",
    "from nltk.tokenize import word_tokenize\n",
    "from nltk.stem import WordNetLemmatizer"
   ]
  },
  {
   "cell_type": "code",
   "execution_count": 3,
   "metadata": {},
   "outputs": [],
   "source": [
    "# Lowercase the text and split by whitespace\n",
    "def preprocess_simple(data):\n",
    "    data1 = data.copy()\n",
    "    for data_point in data1:\n",
    "        data_point[\"text\"] = data_point[\"text\"].lower().split()\n",
    "    return data1"
   ]
  },
  {
   "cell_type": "code",
   "execution_count": 4,
   "metadata": {},
   "outputs": [],
   "source": [
    "# Preprocessing using nltk package, tokenize, lemmatize, and remove unrelevant symbol\n",
    "def preprocess_new_feature(data):\n",
    "    data1 = data.copy()\n",
    "    wordnet_lemmatizer = WordNetLemmatizer()\n",
    "    for data_point in data:\n",
    "        data_point[\"text\"] = word_tokenize(data_point[\"text\"])\n",
    "        data_point[\"text\"] = [w.lower() for w in data_point[\"text\"]]\n",
    "        data_point[\"text\"] = [wordnet_lemmatizer.lemmatize(w) for w in data_point[\"text\"]]\n",
    "        data_point[\"text\"] = [w for w in data_point[\"text\"] if not w in ['.', ',', \"'\", '\"', \"?\", \"!\", \"[\", \"]\", '(', ')', '-', '...'\n",
    "           , \"''\", '``',\":\", \" \"]]\n",
    "    return data1\n",
    "\n",
    "# Split data to training, validation and testing sets.\n",
    "def split_data(data):\n",
    "    train_data = data[:10000]\n",
    "    val_data = data[10000:11000]\n",
    "    test_data = data[11000:]\n",
    "    return train_data, val_data, test_data\n",
    "\n",
    "# Return words count matrix\n",
    "# num specify top-n words count return\n",
    "def words_count(data, num=60):\n",
    "    words_recurrence = {}\n",
    "    for data_point in data:\n",
    "        for word in data_point[\"text\"]:\n",
    "            if word in words_recurrence:\n",
    "                words_recurrence[word] += 1\n",
    "            else:\n",
    "                words_recurrence[word] = 1\n",
    "    words_recurrence = sorted(words_recurrence.items(), key=lambda kv: kv[1], reverse=True)\n",
    "    words_recurrence = words_recurrence[:num]\n",
    "    return words_recurrence\n",
    "\n",
    "# Get feature matrix given data.\n",
    "# Num specify the number of points.\n",
    "def feature_extraction(data, num, words_recurrence):\n",
    "    w = {}\n",
    "    i = 0\n",
    "    for word in words_recurrence:\n",
    "        w[word[0]] = i\n",
    "        i += 1\n",
    "    feature_num = len(words_recurrence)\n",
    "    x = np.zeros((num, feature_num))\n",
    "    i = 0\n",
    "    for data_point in data:\n",
    "        for word in data_point[\"text\"]:\n",
    "            if word in w:\n",
    "                x[i, w[word]] += 1\n",
    "        i += 1\n",
    "    return x;\n",
    "\n",
    "# Add bias term to the data matrix\n",
    "def add_bias(matrix):\n",
    "    x_dataset_bias = np.ones((matrix.shape[0], matrix.shape[1]+1))\n",
    "    x_dataset_bias[:,:-1] = matrix\n",
    "    return x_dataset_bias\n",
    "\n",
    "# Calculate the mean square error\n",
    "def mse(predict, true):\n",
    "    return (np.square(predict - true).mean(axis=None))"
   ]
  },
  {
   "cell_type": "code",
   "execution_count": 5,
   "metadata": {},
   "outputs": [
    {
     "data": {
      "text/plain": [
       "['the',\n",
       " 'i',\n",
       " 'a',\n",
       " 'to',\n",
       " 'and',\n",
       " 'of',\n",
       " 'you',\n",
       " 'that',\n",
       " 'in',\n",
       " 'it',\n",
       " 'was',\n",
       " 'is',\n",
       " 'my',\n",
       " 'for',\n",
       " 'have',\n",
       " 'but',\n",
       " 'this',\n",
       " 'with',\n",
       " 'on',\n",
       " 'not',\n",
       " 'be',\n",
       " 'just',\n",
       " 'or',\n",
       " 'if',\n",
       " 'they',\n",
       " 'your',\n",
       " 'so',\n",
       " 'like',\n",
       " 'are',\n",
       " 'at',\n",
       " 'me',\n",
       " 'as',\n",
       " 'he',\n",
       " \"it's\",\n",
       " 'she',\n",
       " \"i'm\",\n",
       " 'about',\n",
       " 'when',\n",
       " 'we',\n",
       " 'all',\n",
       " 'because',\n",
       " 'from',\n",
       " 'her',\n",
       " 'out',\n",
       " 'would',\n",
       " 'get',\n",
       " \"don't\",\n",
       " 'had',\n",
       " 'what',\n",
       " 'one',\n",
       " 'up',\n",
       " 'people',\n",
       " 'can',\n",
       " 'an',\n",
       " 'do',\n",
       " '[deleted]',\n",
       " 'some',\n",
       " 'how',\n",
       " 'any',\n",
       " 'really',\n",
       " 'his',\n",
       " 'then',\n",
       " 'think',\n",
       " 'no',\n",
       " 'more',\n",
       " 'there',\n",
       " 'their',\n",
       " 'who',\n",
       " 'were',\n",
       " 'will',\n",
       " 'it.',\n",
       " 'them',\n",
       " 'by',\n",
       " 'has',\n",
       " 'only',\n",
       " 'time',\n",
       " 'go',\n",
       " 'know',\n",
       " 'even',\n",
       " 'got',\n",
       " 'been',\n",
       " 'good',\n",
       " 'new',\n",
       " 'after',\n",
       " \"you're\",\n",
       " 'never',\n",
       " 'please',\n",
       " 'make',\n",
       " 'than',\n",
       " 'am',\n",
       " 'still',\n",
       " \"that's\",\n",
       " 'him',\n",
       " 'did',\n",
       " 'being',\n",
       " 'into',\n",
       " 'much',\n",
       " \"didn't\",\n",
       " 'other',\n",
       " 'something',\n",
       " 'going',\n",
       " 'could',\n",
       " 'post',\n",
       " 'first',\n",
       " 'way',\n",
       " 'where',\n",
       " 'also',\n",
       " 'want',\n",
       " 'over',\n",
       " '-',\n",
       " 'most',\n",
       " \"can't\",\n",
       " 'say',\n",
       " 'see',\n",
       " 'pretty',\n",
       " 'why',\n",
       " 'season',\n",
       " 'back',\n",
       " \"i've\",\n",
       " 'very',\n",
       " 'always',\n",
       " 'made',\n",
       " 'love',\n",
       " 'our',\n",
       " 'questions',\n",
       " 'now',\n",
       " 'every',\n",
       " 'which',\n",
       " 'before',\n",
       " 'show',\n",
       " 'fucking',\n",
       " 'moderators',\n",
       " 'too',\n",
       " 'shit',\n",
       " 'actually',\n",
       " 'friends',\n",
       " 'off',\n",
       " 'fuck',\n",
       " 'years',\n",
       " 'feel',\n",
       " 'its',\n",
       " 'me.',\n",
       " 'should',\n",
       " 'same',\n",
       " 'use',\n",
       " 'things',\n",
       " 'few',\n",
       " 'lot',\n",
       " 'action',\n",
       " '[contact',\n",
       " 'life',\n",
       " \"doesn't\",\n",
       " 'best',\n",
       " 'those',\n",
       " 'thing',\n",
       " 'said',\n",
       " 'while',\n",
       " 'someone',\n",
       " 'performed',\n",
       " 'right']"
      ]
     },
     "execution_count": 5,
     "metadata": {},
     "output_type": "execute_result"
    }
   ],
   "source": [
    "with open(\"proj1_data.json\") as fp:\n",
    "    data = json.load(fp)\n",
    "data_processed = preprocess_simple(data)\n",
    "\n",
    "# split data\n",
    "train_data, val_data, test_data = split_data(data_processed)\n",
    "words_top160 = words_count(train_data, num=160)\n",
    "words_list = []\n",
    "for word in words_top160:\n",
    "    words_list.append(word[0])\n",
    "words_list"
   ]
  },
  {
   "cell_type": "code",
   "execution_count": 6,
   "metadata": {},
   "outputs": [],
   "source": [
    "def closed_form(X, y):\n",
    "    #return np.linalg.inv(np.transpose(X) @ X) @ np.transpose(X) @ y\n",
    "    return np.dot(np.dot(np.linalg.inv(np.dot(np.transpose(X), X)), np.transpose(X)), y)"
   ]
  },
  {
   "cell_type": "code",
   "execution_count": 7,
   "metadata": {},
   "outputs": [],
   "source": [
    "def gradient_descent(X, y, beta, n0, eps, show=False):\n",
    "    i = 1\n",
    "    weight = np.random.rand(X.shape[1])\n",
    "    a1 = np.transpose(X) @ X\n",
    "    a2 = np.transpose(X) @ y\n",
    "    while True:\n",
    "        alpha = n0/((1+beta*i) * 10000)\n",
    "        weight_new = weight - 2*alpha * (a1@weight - a2)\n",
    "        difference = np.linalg.norm(weight_new - weight, ord=2)\n",
    "        weight = weight_new\n",
    "        i += 1   \n",
    "        if show:\n",
    "            if(i % 1000 == 0):\n",
    "                print(\"Iteration: \" + str(i) + \". Difference: \" + str(difference))\n",
    "        if (difference < eps):\n",
    "            break\n",
    "    return weight"
   ]
  },
  {
   "cell_type": "code",
   "execution_count": 8,
   "metadata": {},
   "outputs": [],
   "source": [
    "with open(\"proj1_data.json\") as fp:\n",
    "    data = json.load(fp)\n",
    "data_processed = preprocess_simple(data)\n",
    "\n",
    "# split data\n",
    "train_data, val_data, test_data = split_data(data_processed)\n",
    "words_top160 = words_count(train_data, num=160)\n",
    "train_x_160 = add_bias(feature_extraction(train_data, 10000, words_top160))\n",
    "val_x_160 = add_bias(feature_extraction(val_data, 1000, words_top160))\n",
    "test_x_160 = add_bias(feature_extraction(test_data, 1000, words_top160))"
   ]
  },
  {
   "cell_type": "code",
   "execution_count": 9,
   "metadata": {},
   "outputs": [],
   "source": [
    "with open(\"proj1_data.json\") as fp:\n",
    "    data = json.load(fp)\n",
    "data_processed = preprocess_simple(data)\n",
    "\n",
    "# split data\n",
    "train_data, val_data, test_data = split_data(data_processed)\n",
    "words_top60 = words_count(train_data, num=60)\n",
    "\n",
    "train_x_60 = add_bias(feature_extraction(train_data, 10000, words_top60))\n",
    "\n",
    "val_x_60 = add_bias(feature_extraction(val_data, 1000, words_top60))\n",
    "test_x_60 = add_bias(feature_extraction(test_data, 1000, words_top60))"
   ]
  },
  {
   "cell_type": "code",
   "execution_count": 10,
   "metadata": {},
   "outputs": [],
   "source": [
    "with open(\"proj1_data.json\") as fp:\n",
    "    data = json.load(fp)\n",
    "x_3 = np.zeros((12000, 3))\n",
    "i=0\n",
    "for data_point in data:\n",
    "    if data_point[\"is_root\"]:\n",
    "        x_3[i, 0] = 1\n",
    "    else:\n",
    "        x_3[i, 0] = 0\n",
    "    x_3[i, 1] = data_point[\"controversiality\"]\n",
    "    x_3[i, 2] = data_point[\"children\"]\n",
    "    i = i + 1\n",
    "train_x_3 = x_3[:10000]\n",
    "val_x_3 = x_3[10000:11000]\n",
    "test_x_3 = x_3[11000:]\n",
    "train_x_3 = add_bias(train_x_3)\n",
    "val_x_3 = add_bias(val_x_3)\n",
    "test_x_3 = add_bias(test_x_3)"
   ]
  },
  {
   "cell_type": "code",
   "execution_count": 11,
   "metadata": {},
   "outputs": [],
   "source": [
    "with open(\"proj1_data.json\") as fp:\n",
    "    data = json.load(fp)\n",
    "y = np.zeros(12000)\n",
    "i = 0\n",
    "for data_point in data:\n",
    "    y[i] = data_point[\"popularity_score\"]\n",
    "    i += 1\n",
    "y_train = y[:10000]\n",
    "y_val = y[10000:11000]\n",
    "y_test = y[11000:]"
   ]
  },
  {
   "cell_type": "code",
   "execution_count": 12,
   "metadata": {},
   "outputs": [
    {
     "name": "stdout",
     "output_type": "stream",
     "text": [
      "0.07162282666666667\n",
      "Iteration: 1000. Difference: 0.0001581256076247615\n",
      "Iteration: 2000. Difference: 6.45759604312241e-05\n",
      "Iteration: 3000. Difference: 3.7732354302592944e-05\n",
      "Iteration: 4000. Difference: 2.568482886681978e-05\n",
      "Iteration: 5000. Difference: 1.903760018885079e-05\n",
      "Iteration: 6000. Difference: 1.4899067161867338e-05\n",
      "Iteration: 7000. Difference: 1.2108717061725281e-05\n",
      "Iteration: 8000. Difference: 1.011774577252023e-05\n",
      "Iteration: 9000. Difference: 8.63567520085222e-06\n",
      "Iteration: 10000. Difference: 7.495524640232397e-06\n",
      "Iteration: 11000. Difference: 6.595035179894873e-06\n",
      "Iteration: 12000. Difference: 5.868364398773198e-06\n",
      "Iteration: 13000. Difference: 5.271355313154734e-06\n",
      "Iteration: 14000. Difference: 4.773376987669639e-06\n",
      "Iteration: 15000. Difference: 4.352567629865176e-06\n",
      "Iteration: 16000. Difference: 3.992939774456634e-06\n",
      "Iteration: 17000. Difference: 3.6825531932109087e-06\n",
      "Iteration: 18000. Difference: 3.41232490007796e-06\n",
      "Iteration: 19000. Difference: 3.175232604365139e-06\n",
      "Iteration: 20000. Difference: 2.965768551447952e-06\n",
      "Iteration: 21000. Difference: 2.7795569811438234e-06\n",
      "Iteration: 22000. Difference: 2.613081046213495e-06\n",
      "Iteration: 23000. Difference: 2.463484514139598e-06\n",
      "Iteration: 24000. Difference: 2.3284255361461703e-06\n",
      "Iteration: 25000. Difference: 2.205967293807661e-06\n",
      "Iteration: 26000. Difference: 2.0944951725546053e-06\n",
      "Iteration: 27000. Difference: 1.9926532913100044e-06\n",
      "Iteration: 28000. Difference: 1.89929533925117e-06\n",
      "Iteration: 29000. Difference: 1.813446116763612e-06\n",
      "Iteration: 30000. Difference: 1.7342711721491497e-06\n",
      "Iteration: 31000. Difference: 1.661052626746804e-06\n",
      "Iteration: 32000. Difference: 1.5931697729825376e-06\n",
      "Iteration: 33000. Difference: 1.5300833891806253e-06\n",
      "Iteration: 34000. Difference: 1.4713229700617173e-06\n",
      "Iteration: 35000. Difference: 1.4164762644650628e-06\n",
      "Iteration: 36000. Difference: 1.3651806512139005e-06\n",
      "Iteration: 37000. Difference: 1.31711598871806e-06\n",
      "Iteration: 38000. Difference: 1.271998655501466e-06\n",
      "Iteration: 39000. Difference: 1.229576557268262e-06\n",
      "Iteration: 40000. Difference: 1.189624923913069e-06\n",
      "Iteration: 41000. Difference: 1.1519427553748605e-06\n",
      "Iteration: 42000. Difference: 1.1163498030759923e-06\n",
      "Iteration: 43000. Difference: 1.0826839955992941e-06\n",
      "Iteration: 44000. Difference: 1.050799235099169e-06\n",
      "Iteration: 45000. Difference: 1.0205635034701353e-06\n",
      "0.8912955733333333\n"
     ]
    }
   ],
   "source": [
    "start = timeit.default_timer()\n",
    "weights_cf = closed_form(train_x_3, y_train)\n",
    "end = timeit.default_timer()\n",
    "run_time_cf = end - start\n",
    "print(run_time_cf)\n",
    "start = timeit.default_timer()\n",
    "weights_gd = gradient_descent(train_x_3, y_train, beta=10e-3, n0=10e-3, eps= 1 * 10e-07, show=True)\n",
    "end = timeit.default_timer()\n",
    "run_time_gd = end - start\n",
    "print(run_time_gd)"
   ]
  },
  {
   "cell_type": "code",
   "execution_count": 13,
   "metadata": {},
   "outputs": [
    {
     "name": "stdout",
     "output_type": "stream",
     "text": [
      "Run 5 times for closed form:\n",
      "[-0.22627679 -1.08584747  0.37536403  0.82092517]\n",
      "[-0.22627679 -1.08584747  0.37536403  0.82092517]\n",
      "[-0.22627679 -1.08584747  0.37536403  0.82092517]\n",
      "[-0.22627679 -1.08584747  0.37536403  0.82092517]\n",
      "[-0.22627679 -1.08584747  0.37536403  0.82092517]\n"
     ]
    },
    {
     "data": {
      "image/png": "[encoded data removed]",
      "text/plain": [
       "<Figure size 432x288 with 1 Axes>"
      ]
     },
     "metadata": {},
     "output_type": "display_data"
    },
    {
     "name": "stdout",
     "output_type": "stream",
     "text": [
      "Run 5 times for gradient descent (same hyperparameter):\n",
      "[-0.13975091  0.04509261  0.37641151  0.76219764]\n",
      "[-0.1275707   0.60081539  0.37538463  0.74999551]\n",
      "[-0.16583217  0.21279836  0.37459112  0.77484841]\n",
      "[-0.14153582 -0.01564059  0.3764995   0.76378314]\n",
      "[-0.14749312  0.03553719  0.37604697  0.76654164]\n"
     ]
    },
    {
     "data": {
      "image/png": "[encoded data removed]",
      "text/plain": [
       "<Figure size 432x288 with 1 Axes>"
      ]
     },
     "metadata": {},
     "output_type": "display_data"
    }
   ],
   "source": [
    "print(\"Run 5 times for closed form:\")\n",
    "for i in range(5):\n",
    "    weights_cf = closed_form(train_x_3, y_train)\n",
    "    print(weights_cf)\n",
    "plt.plot(weights_cf)\n",
    "plt.show()\n",
    "\n",
    "print(\"Run 5 times for gradient descent (same hyperparameter):\")\n",
    "for i in range(5):\n",
    "    weights_gd = gradient_descent(train_x_3, y_train, beta=10e-3, n0=10e-3, eps= 1 * 10e-07)\n",
    "    print(weights_gd)\n",
    "plt.plot(weights_gd)\n",
    "plt.show()\n",
    "    \n",
    "\n",
    "    "
   ]
  },
  {
   "cell_type": "code",
   "execution_count": 14,
   "metadata": {},
   "outputs": [
    {
     "name": "stdout",
     "output_type": "stream",
     "text": [
      "1.2652963638167058\n"
     ]
    },
    {
     "data": {
      "image/png": "[encoded data removed]",
      "text/plain": [
       "<Figure size 432x288 with 3 Axes>"
      ]
     },
     "metadata": {},
     "output_type": "display_data"
    }
   ],
   "source": [
    "weights_3 = closed_form(train_x_3, y_train)\n",
    "weights_60 = closed_form(train_x_60, y_train)\n",
    "weights_160 = closed_form(train_x_160, y_train)\n",
    "estimation_3_train = np.dot(val_x_3,weights_3)\n",
    "estimation_3 = np.dot(val_x_3,weights_3)\n",
    "estimation_60_train = np.dot(train_x_60,weights_60)\n",
    "estimation_60 = np.dot(val_x_60,weights_60)\n",
    "estimation_160_train = np.dot(train_x_160,weights_160)\n",
    "estimation_160 = np.dot(val_x_160,weights_160)\n",
    "plt.subplot(2,2,1)\n",
    "plt.plot(y_val,'ro',estimation_3,'go')\n",
    "plt.subplot(2,2,2)\n",
    "plt.plot(y_val,'ro',estimation_60,'go')\n",
    "plt.subplot(2,2,3)\n",
    "plt.plot(y_val,'ro',estimation_160,'go')\n",
    "\n",
    "\n",
    "\n",
    "\n",
    "\n",
    "mse_3_train = mse(np.dot(train_x_3, weights_3), y_train)\n",
    "mse_3_val = mse(np.dot(val_x_3, weights_3), y_val)\n",
    "mse_60_train = mse(np.dot(train_x_60, weights_60), y_train)\n",
    "mse_60_val = mse(np.dot(val_x_60, weights_60), y_val)\n",
    "print(mse_60_val)\n",
    "mse_160_train = mse(np.dot(train_x_160, weights_160), y_train)\n",
    "mse_160_val = mse(np.dot(val_x_160, weights_160), y_val)"
   ]
  },
  {
   "cell_type": "code",
   "execution_count": 25,
   "metadata": {},
   "outputs": [],
   "source": [
    "def add_newfeature(x_matrix,data):\n",
    "    x_new = np.zeros(12000)\n",
    "    j = 0\n",
    "    for data_point in data:\n",
    "        x_new[j] = (data_point[\"children\"]**2+data_point[\"controversiality\"]**3)\n",
    "        j += 1\n",
    "    data1=np.append(x_matrix,x_new.reshape(12000,1),axis = 1)\n",
    "    return(data1)"
   ]
  },
  {
   "cell_type": "code",
   "execution_count": 26,
   "metadata": {},
   "outputs": [
    {
     "name": "stdout",
     "output_type": "stream",
     "text": [
      "MSE for training sets with feature2:1.2556586306875666\n",
      "MSE for validation sets with feature2:1.1632405973000193\n",
      "MSE for test sets with feature2:1.5144807757399503\n"
     ]
    }
   ],
   "source": [
    "# Construct matrx x_feature2\n",
    "x_f2_60 = feature_extraction(data_processed, 12000, words_top60)\n",
    "x_f2 = add_bias(add_newfeature(x_f2_60, data))\n",
    "# split x_feature2\n",
    "x_f2_train = x_f2[:10000]\n",
    "x_f2_val = x_f2[10000:11000]\n",
    "x_f2_test = x_f2[11000:]\n",
    "\n",
    "weight_f2_60 = closed_form(x_f2_train, y_train)\n",
    "mse_60_f2_train = mse(np.dot(x_f2_train, weight_f2_60), y_train)\n",
    "mse_60_f2_val = mse(np.dot(x_f2_val, weight_f2_60), y_val)\n",
    "mse_60_f2_test = mse(np.dot(x_f2_test, weight_f2_60), y_test)\n",
    "\n",
    "print(\"MSE for training sets with feature2:\" + str(mse_60_f2_train))\n",
    "print(\"MSE for validation sets with feature2:\" + str(mse_60_f2_val))\n",
    "print(\"MSE for test sets with feature2:\" + str(mse_60_f2_test))"
   ]
  },
  {
   "cell_type": "code",
   "execution_count": 28,
   "metadata": {},
   "outputs": [
    {
     "data": {
      "text/plain": [
       "[<matplotlib.lines.Line2D at 0x169e3dee588>,\n",
       " <matplotlib.lines.Line2D at 0x169f1e250f0>]"
      ]
     },
     "execution_count": 28,
     "metadata": {},
     "output_type": "execute_result"
    },
    {
     "data": {
      "image/png": "[encoded data removed]",
      "text/plain": [
       "<Figure size 432x288 with 1 Axes>"
      ]
     },
     "metadata": {},
     "output_type": "display_data"
    }
   ],
   "source": [
    "\n",
    "estimation_60_f2_train = np.dot(x_f2_train,weight_f2_60)\n",
    "estimation_60_f2 = np.dot(x_f2_val,weight_f2_60)\n",
    "plt.plot(y_val,'ro',estimation_60_f2,'go')\n",
    "with open(\"/Users/inspur/Desktop/1.7/proj1_data.json\") as fp:\n",
    "    data = json.load(fp)\n",
    "x_f = np.zeros((12000, 3))\n",
    "i=0\n",
    "for data_point in data:\n",
    "    if data_point[\"is_root\"]:\n",
    "        x_f[i, 0] = 1\n",
    "    else:\n",
    "        x_f[i, 0] = 0\n",
    "    x_f[i, 1] = data_point[\"controversiality\"]\n",
    "    x_f[i, 2] = data_point[\"children\"]\n",
    "    i = i + 1\n",
    "x_f=add_bias(np.append(add_newfeature(x_f2_60, data),x_f.reshape(12000,3),axis = 1))\n",
    "\n",
    "# split x_final\n",
    "x_f_train = x_f[:10000]\n",
    "x_f_val = x_f[10000:11000]\n",
    "x_f_test = x_f[11000:]\n",
    "\n",
    "weight_f = closed_form(x_f_train, y_train)\n",
    "mse_f_train = mse(np.dot(x_f_train, weight_f), y_train)\n",
    "mse_f_val = mse(np.dot(x_f_val, weight_f), y_val)\n",
    "mse_f_test = mse(np.dot(x_f_test, weight_f), y_test)\n",
    "\n",
    "estimation_f_train = np.dot(x_f_train,weight_f)\n",
    "estimation_f = np.dot(x_f_val,weight_f)\n",
    "plt.plot(y_val,'ro',estimation_60_f2,'go')"
   ]
  },
  {
   "cell_type": "code",
   "execution_count": 29,
   "metadata": {},
   "outputs": [
    {
     "name": "stdout",
     "output_type": "stream",
     "text": [
      "MSE for training sets with feature1:1.3359584843482215\n",
      "MSE for validation sets with feature1:1.257715103376247\n",
      "MSE for test sets with feature1:1.5781538538151407\n"
     ]
    }
   ],
   "source": [
    "with open(\"proj1_data.json\") as fp:\n",
    "    data = json.load(fp)\n",
    "\n",
    "data_processed = preprocess_new_feature(data)\n",
    "\n",
    "# split data\n",
    "train_data, val_data, test_data = split_data(data_processed)\n",
    "words_top60 = words_count(train_data, num=60)\n",
    "train_x_f1_60 = add_bias(feature_extraction(train_data, 10000, words_top60))\n",
    "val_x_f1_60 = add_bias(feature_extraction(val_data, 1000, words_top60))\n",
    "test_x_f1_60 = add_bias(feature_extraction(test_data, 1000, words_top60))\n",
    "weights_f1_60 = closed_form(train_x_60, y_train)\n",
    "mse_60_f1_train = mse(np.dot(train_x_f1_60, weights_f1_60), y_train)\n",
    "mse_60_f1_val = mse(np.dot(val_x_f1_60, weights_f1_60), y_val)\n",
    "mse_60_f1_test = mse(np.dot(test_x_f1_60, weights_f1_60), y_test)\n",
    "print(\"MSE for training sets with feature1:\" + str(mse_60_f1_train))\n",
    "print(\"MSE for validation sets with feature1:\" + str(mse_60_f1_val))\n",
    "print(\"MSE for test sets with feature1:\" + str(mse_60_f1_test))\n"
   ]
  }
 ],
 "metadata": {
  "kernelspec": {
   "display_name": "Python 3",
   "language": "python",
   "name": "python3"
  },
  "language_info": {
   "codemirror_mode": {
    "name": "ipython",
    "version": 3
   },
   "file_extension": ".py",
   "mimetype": "text/x-python",
   "name": "python",
   "nbconvert_exporter": "python",
   "pygments_lexer": "ipython3",
   "version": "3.7.1"
  }
 },
 "nbformat": 4,
 "nbformat_minor": 2
}
