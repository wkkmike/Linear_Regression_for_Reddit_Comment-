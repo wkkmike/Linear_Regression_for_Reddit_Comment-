{
 "cells": [
  {
   "cell_type": "code",
   "execution_count": 153,
   "metadata": {},
   "outputs": [],
   "source": [
    "import json # we need to use the JSON package to load the data, since the data is stored in JSON format\n",
    "import numpy as np\n",
    "import matplotlib.pyplot as plt\n",
    "from sklearn.linear_model import LinearRegression\n",
    "from sklearn.metrics import mean_squared_error"
   ]
  },
  {
   "cell_type": "code",
   "execution_count": 123,
   "metadata": {},
   "outputs": [],
   "source": [
    "with open(\"proj1_data.json\") as fp:\n",
    "    data = json.load(fp)"
   ]
  },
  {
   "cell_type": "code",
   "execution_count": 124,
   "metadata": {},
   "outputs": [],
   "source": [
    "# Lowers every word's text, and split\n",
    "for data_point in data:\n",
    "    data_point[\"text\"] = data_point[\"text\"].lower().split()"
   ]
  },
  {
   "cell_type": "code",
   "execution_count": 125,
   "metadata": {},
   "outputs": [],
   "source": [
    "# Sets Traning, Validation, Test sets\n",
    "training_set = data[:10000]\n",
    "validation_set = data[10000:11000]\n",
    "test_set = data[11000:]"
   ]
  },
  {
   "cell_type": "code",
   "execution_count": 126,
   "metadata": {},
   "outputs": [],
   "source": [
    "# Finds words recurring number\n",
    "words_recurrence = {}\n",
    "for data_point in training_set:\n",
    "    for word in data_point[\"text\"]:\n",
    "        if word in words_recurrence:\n",
    "            words_recurrence[word] += 1\n",
    "        else:\n",
    "            words_recurrence[word] = 1"
   ]
  },
  {
   "cell_type": "code",
   "execution_count": 127,
   "metadata": {},
   "outputs": [],
   "source": [
    "# Sorts from high to low amd trim to size 160 \n",
    "words_recurrence = sorted(words_recurrence.items(), key=lambda kv: kv[1], reverse=True)\n",
    "del words_recurrence[160:]"
   ]
  },
  {
   "cell_type": "code",
   "execution_count": 128,
   "metadata": {},
   "outputs": [],
   "source": [
    "# The 160 most frequently occurring words (from 0 to 159)\n",
    "# Builds vector w\n",
    "w = {}\n",
    "i = 0\n",
    "for word in words_recurrence:\n",
    "    w[word[0]] = i\n",
    "    i += 1"
   ]
  },
  {
   "cell_type": "code",
   "execution_count": 129,
   "metadata": {},
   "outputs": [],
   "source": [
    "# Builds matrix x\n",
    "x = np.zeros((12000, 160))\n",
    "i = 0\n",
    "for data_point in data:\n",
    "    for word in data_point[\"text\"]:\n",
    "        if word in w:\n",
    "            x[i, w[word]] += 1\n",
    "    i += 1"
   ]
  },
  {
   "cell_type": "code",
   "execution_count": 130,
   "metadata": {},
   "outputs": [],
   "source": [
    "# Splits y into Traning, Validation, Test vectors\n",
    "x_training = x[:10000]\n",
    "x_validation = x[10000:11000]\n",
    "x_test = x[11000:]"
   ]
  },
  {
   "cell_type": "code",
   "execution_count": 131,
   "metadata": {},
   "outputs": [],
   "source": [
    "# Builds vector y\n",
    "y = np.zeros(12000)\n",
    "i = 0\n",
    "for data_point in data:\n",
    "    y[i] = data_point[\"popularity_score\"]\n",
    "    i += 1"
   ]
  },
  {
   "cell_type": "code",
   "execution_count": 132,
   "metadata": {},
   "outputs": [],
   "source": [
    "# Splits y into Traning, Validation, Test vectors\n",
    "y_training = y[:10000]\n",
    "y_validation = y[10000:11000]\n",
    "y_test = y[11000:]"
   ]
  },
  {
   "cell_type": "code",
   "execution_count": 133,
   "metadata": {},
   "outputs": [],
   "source": [
    "def add_bias(x_dataset):\n",
    "    x_dataset_bias = np.ones((x_dataset.shape[0], x_dataset.shape[1]+1))\n",
    "    x_dataset_bias[:,:-1] = x_dataset\n",
    "    return x_dataset_bias"
   ]
  },
  {
   "cell_type": "code",
   "execution_count": 134,
   "metadata": {},
   "outputs": [],
   "source": [
    "# Closed-form solution"
   ]
  },
  {
   "cell_type": "code",
   "execution_count": 135,
   "metadata": {},
   "outputs": [],
   "source": [
    "weights_closed = np.dot(np.dot(np.linalg.inv(np.dot(np.transpose(add_bias(x_training)), add_bias(x_training))), np.transpose(add_bias(x_training))), y_training)\n",
    "estimation_closed = np.dot(add_bias(x_validation), weights_closed)"
   ]
  },
  {
   "cell_type": "code",
   "execution_count": 154,
   "metadata": {},
   "outputs": [
    {
     "name": "stdout",
     "output_type": "stream",
     "text": [
      "1.4342858175678814\n",
      "1.4342858175678814\n"
     ]
    }
   ],
   "source": [
    "# Mean-square error\n",
    "def ms_err(predict, true):\n",
    "    return (np.square(predict - true).mean(axis=None))\n",
    "print(ms_err(estimation_closed, y_validation))\n",
    "print(mean_squared_error(estimation_closed, y_validation))"
   ]
  },
  {
   "cell_type": "code",
   "execution_count": 137,
   "metadata": {},
   "outputs": [
    {
     "data": {
      "image/png": "[encoded data removed]",
      "text/plain": [
       "<Figure size 432x288 with 1 Axes>"
      ]
     },
     "metadata": {
      "needs_background": "light"
     },
     "output_type": "display_data"
    }
   ],
   "source": [
    "estimation_closed = estimation_closed[400:800]\n",
    "plt.plot(estimation_closed, 'ro')\n",
    "plt.show()"
   ]
  },
  {
   "cell_type": "code",
   "execution_count": 138,
   "metadata": {},
   "outputs": [
    {
     "data": {
      "image/png": "[encoded data removed]",
      "text/plain": [
       "<Figure size 432x288 with 1 Axes>"
      ]
     },
     "metadata": {
      "needs_background": "light"
     },
     "output_type": "display_data"
    }
   ],
   "source": [
    "y_validation = y_validation[400:800]\n",
    "plt.plot( y_validation, 'ro')\n",
    "plt.show()"
   ]
  },
  {
   "cell_type": "code",
   "execution_count": 139,
   "metadata": {},
   "outputs": [],
   "source": [
    "# Gradient descent"
   ]
  },
  {
   "cell_type": "code",
   "execution_count": 144,
   "metadata": {},
   "outputs": [],
   "source": [
    "def gradient_descent(x, y, beta, n0, eps):\n",
    "    i = 1\n",
    "    weight = np.random.rand(x.shape[1])\n",
    "    a1 = np.transpose(x) @ x\n",
    "    a2 = np.transpose(x) @ y\n",
    "    while True:\n",
    "        alpha = n0/((1+beta*i) * 10000)\n",
    "        weight_new = weight - 2*alpha * (a1@weight - a2)\n",
    "        difference = np.linalg.norm(weight_new - weight, ord=2)\n",
    "        weight = weight_new\n",
    "        i += 1           \n",
    "        #plt.plot(i, difference, 'ro')\n",
    "        #if(i % 1000 == 0):\n",
    "         #   print(\"Iteration: \" + str(i) + \". Difference: \" + str(difference))\n",
    "        if (difference < eps):\n",
    "            print(difference)\n",
    "            break\n",
    "    return weight"
   ]
  },
  {
   "cell_type": "code",
   "execution_count": 145,
   "metadata": {},
   "outputs": [
    {
     "name": "stdout",
     "output_type": "stream",
     "text": [
      "9.999992378176704e-07\n"
     ]
    }
   ],
   "source": [
    "weights_gradient = gradient_descent(add_bias(x_training), y_training, beta=10e-3, n0=10e-3, eps= 1 * 10e-07)"
   ]
  },
  {
   "cell_type": "code",
   "execution_count": 146,
   "metadata": {},
   "outputs": [
    {
     "data": {
      "image/png": "[encoded data removed]",
      "text/plain": [
       "<Figure size 432x288 with 1 Axes>"
      ]
     },
     "metadata": {
      "needs_background": "light"
     },
     "output_type": "display_data"
    },
    {
     "name": "stdout",
     "output_type": "stream",
     "text": [
      "1.717306075838447\n"
     ]
    }
   ],
   "source": [
    "estimation_gradient = np.dot(add_bias(x_validation), weights_gradient)\n",
    "estimation_gradient = estimation_gradient[400:800]\n",
    "plt.plot(estimation_gradient, 'ro')\n",
    "plt.show()\n",
    "print(ms_err(estimation_gradient, y_validation))"
   ]
  },
  {
   "cell_type": "code",
   "execution_count": null,
   "metadata": {},
   "outputs": [],
   "source": []
  }
 ],
 "metadata": {
  "kernelspec": {
   "display_name": "Python 3",
   "language": "python",
   "name": "python3"
  },
  "language_info": {
   "codemirror_mode": {
    "name": "ipython",
    "version": 3
   },
   "file_extension": ".py",
   "mimetype": "text/x-python",
   "name": "python",
   "nbconvert_exporter": "python",
   "pygments_lexer": "ipython3",
   "version": "3.7.1"
  }
 },
 "nbformat": 4,
 "nbformat_minor": 2
}
