{
 "cells": [
  {
   "cell_type": "code",
   "execution_count": 46,
   "metadata": {},
   "outputs": [],
   "source": [
    "import json # we need to use the JSON package to load the data, since the data is stored in JSON format\n",
    "import numpy as np\n",
    "import matplotlib.pyplot as plt\n",
    "from sklearn.linear_model import LinearRegression\n",
    "from sklearn.metrics import mean_squared_error\n",
    "import math"
   ]
  },
  {
   "cell_type": "code",
   "execution_count": 47,
   "metadata": {},
   "outputs": [],
   "source": [
    "stopwords = [\"i\", \"me\", \"my\", \"myself\", \"we\", \"our\", \"ours\", \"ourselves\", \"you\", \"your\", \"yours\", \"yourself\", \"yourselves\", \"he\", \"him\", \"his\", \"himself\", \"she\", \"her\", \"hers\", \"herself\", \"it\", \"its\", \"itself\", \"they\", \"them\", \"their\", \"theirs\", \"themselves\", \"what\", \"which\", \"who\", \"whom\", \"this\", \"that\", \"these\", \"those\", \"am\", \"is\", \"are\", \"was\", \"were\", \"be\", \"been\", \"being\", \"have\", \"has\", \"had\", \"having\", \"do\", \"does\", \"did\", \"doing\", \"a\", \"an\", \"the\", \"and\", \"but\", \"if\", \"or\", \"because\", \"as\", \"until\", \"while\", \"of\", \"at\", \"by\", \"for\", \"with\", \"about\", \"against\", \"between\", \"into\", \"through\", \"during\", \"before\", \"after\", \"above\", \"below\", \"to\", \"from\", \"up\", \"down\", \"in\", \"out\", \"on\", \"off\", \"over\", \"under\", \"again\", \"further\", \"then\", \"once\", \"here\", \"there\", \"when\", \"where\", \"why\", \"how\", \"all\", \"any\", \"both\", \"each\", \"few\", \"more\", \"most\", \"other\", \"some\", \"such\", \"no\", \"nor\", \"not\", \"only\", \"own\", \"same\", \"so\", \"than\", \"too\", \"very\", \"s\", \"t\", \"can\", \"will\", \"just\", \"don\", \"should\", \"now\"]"
   ]
  },
  {
   "cell_type": "code",
   "execution_count": 48,
   "metadata": {},
   "outputs": [],
   "source": [
    "with open(\"proj1_data.json\") as fp:\n",
    "    data = json.load(fp)"
   ]
  },
  {
   "cell_type": "code",
   "execution_count": 49,
   "metadata": {},
   "outputs": [],
   "source": [
    "# Lowers every word's text, and split\n",
    "for data_point in data:\n",
    "    data_point[\"text\"] = data_point[\"text\"].lower().split()"
   ]
  },
  {
   "cell_type": "code",
   "execution_count": 50,
   "metadata": {},
   "outputs": [
    {
     "data": {
      "text/plain": [
       "array([[0.],\n",
       "       [0.],\n",
       "       [0.],\n",
       "       ...,\n",
       "       [0.],\n",
       "       [0.],\n",
       "       [0.]])"
      ]
     },
     "execution_count": 50,
     "metadata": {},
     "output_type": "execute_result"
    }
   ],
   "source": [
    "is_admin = np.zeros((12000,1))\n",
    "i = 0\n",
    "for data_point in data:\n",
    "    if \"I am a rob\" in data_point['text']:\n",
    "        is_admin[i] = 1\n",
    "    if \"[deleted]\" in data_point['text']:\n",
    "        is_admin[i] = 1\n",
    "    if \"[removed]\" in data_point['text']:\n",
    "        is_admin[i] = 1\n",
    "    i += 1\n",
    "is_admin"
   ]
  },
  {
   "cell_type": "code",
   "execution_count": 51,
   "metadata": {},
   "outputs": [],
   "source": [
    "# Sets Traning, Validation, Test sets\n",
    "training_set = data[:10000]\n",
    "validation_set = data[10000:11000]\n",
    "test_set = data[11000:]"
   ]
  },
  {
   "cell_type": "code",
   "execution_count": 52,
   "metadata": {},
   "outputs": [],
   "source": [
    "# Finds words recurring number\n",
    "words_recurrence = {}\n",
    "for data_point in training_set:\n",
    "    for word in data_point[\"text\"]:\n",
    "        if word in words_recurrence:\n",
    "            words_recurrence[word] += 1\n",
    "        else:\n",
    "            words_recurrence[word] = 1"
   ]
  },
  {
   "cell_type": "code",
   "execution_count": 53,
   "metadata": {},
   "outputs": [],
   "source": [
    "idf = {}\n",
    "for data_point in training_set:\n",
    "    flag = {}\n",
    "    for word in data_point['text']:\n",
    "        if word in idf:\n",
    "            if word not in flag:\n",
    "                idf[word] += 1\n",
    "                flag[word] = 1\n",
    "        else:\n",
    "            idf[word] = 1\n",
    "            flag[word] = 1"
   ]
  },
  {
   "cell_type": "code",
   "execution_count": 54,
   "metadata": {},
   "outputs": [],
   "source": [
    "# Sorts from high to low amd trim to size 160 \n",
    "words_recurrence = sorted(words_recurrence.items(), key=lambda kv: kv[1], reverse=True)\n",
    "del words_recurrence[60:]"
   ]
  },
  {
   "cell_type": "code",
   "execution_count": 55,
   "metadata": {},
   "outputs": [],
   "source": [
    "# The 160 most frequently occurring words (from 0 to 159)\n",
    "# Builds vector w\n",
    "w = {}\n",
    "i = 0\n",
    "for word in words_recurrence:\n",
    "    w[word[0]] = i\n",
    "    i += 1"
   ]
  },
  {
   "cell_type": "code",
   "execution_count": 56,
   "metadata": {},
   "outputs": [],
   "source": [
    "# Builds matrix x\n",
    "x = np.zeros((12000, 60))\n",
    "i = 0\n",
    "for data_point in data:\n",
    "    for word in data_point[\"text\"]:\n",
    "        if word in w:\n",
    "            x[i, w[word]] += math.log10(12000 / idf[word])\n",
    "    i += 1"
   ]
  },
  {
   "cell_type": "code",
   "execution_count": 57,
   "metadata": {},
   "outputs": [],
   "source": [
    "# Splits x into Traning, Validation, Test vectors\n",
    "x_training = x[:10000]\n",
    "x_validation = x[10000:11000]\n",
    "x_test = x[11000:]"
   ]
  },
  {
   "cell_type": "code",
   "execution_count": 58,
   "metadata": {},
   "outputs": [],
   "source": [
    "# Builds vector y\n",
    "y = np.zeros(12000)\n",
    "i = 0\n",
    "for data_point in data:\n",
    "    y[i] = data_point[\"popularity_score\"]\n",
    "    i += 1"
   ]
  },
  {
   "cell_type": "code",
   "execution_count": 59,
   "metadata": {},
   "outputs": [],
   "source": [
    "# Splits y into Traning, Validation, Test vectors\n",
    "y_training = y[:10000]\n",
    "y_validation = y[10000:11000]\n",
    "y_test = y[11000:]"
   ]
  },
  {
   "cell_type": "code",
   "execution_count": 60,
   "metadata": {},
   "outputs": [],
   "source": [
    "def add_bias(x_dataset):\n",
    "    x_dataset_bias = np.ones((x_dataset.shape[0], x_dataset.shape[1]+1))\n",
    "    x_dataset_bias[:,:-1] = x_dataset\n",
    "    return x_dataset_bias"
   ]
  },
  {
   "cell_type": "code",
   "execution_count": 61,
   "metadata": {},
   "outputs": [],
   "source": [
    "# Closed-form solution"
   ]
  },
  {
   "cell_type": "code",
   "execution_count": 62,
   "metadata": {},
   "outputs": [],
   "source": [
    "weights_closed = np.dot(np.dot(np.linalg.inv(np.dot(np.transpose(add_bias(x_training)), add_bias(x_training))), np.transpose(add_bias(x_training))), y_training)\n",
    "estimation_closed = np.dot(add_bias(x_validation), weights_closed)"
   ]
  },
  {
   "cell_type": "code",
   "execution_count": 63,
   "metadata": {},
   "outputs": [
    {
     "name": "stdout",
     "output_type": "stream",
     "text": [
      "1.265296363816706\n"
     ]
    }
   ],
   "source": [
    "# Mean-square error\n",
    "def ms_err(predict, true):\n",
    "    return (np.square(predict - true).mean(axis=None))\n",
    "print(ms_err(estimation_closed, y_validation))"
   ]
  },
  {
   "cell_type": "code",
   "execution_count": 64,
   "metadata": {},
   "outputs": [
    {
     "data": {
      "image/png": "[encoded data removed]",
      "text/plain": [
       "<Figure size 432x288 with 1 Axes>"
      ]
     },
     "metadata": {
      "needs_background": "light"
     },
     "output_type": "display_data"
    }
   ],
   "source": [
    "estimation_closed = estimation_closed[400:800]\n",
    "plt.plot(estimation_closed, 'ro')\n",
    "plt.show()"
   ]
  },
  {
   "cell_type": "code",
   "execution_count": 65,
   "metadata": {},
   "outputs": [
    {
     "data": {
      "image/png": "[encoded data removed]",
      "text/plain": [
       "<Figure size 432x288 with 1 Axes>"
      ]
     },
     "metadata": {
      "needs_background": "light"
     },
     "output_type": "display_data"
    }
   ],
   "source": [
    "y_validation = y_validation[400:800]\n",
    "plt.plot( y_validation, 'ro')\n",
    "plt.show()"
   ]
  },
  {
   "cell_type": "code",
   "execution_count": 66,
   "metadata": {},
   "outputs": [],
   "source": [
    "# Gradient descent"
   ]
  },
  {
   "cell_type": "code",
   "execution_count": 67,
   "metadata": {},
   "outputs": [],
   "source": [
    "def gradient_descent(x, y, beta, n0, eps):\n",
    "    i = 1\n",
    "    weight = np.random.rand(x.shape[1])\n",
    "    a1 = np.transpose(x) @ x\n",
    "    a2 = np.transpose(x) @ y\n",
    "    while True:\n",
    "        alpha = n0/((1+beta*i) * 10000)\n",
    "        weight_new = weight - 2*alpha * (a1@weight - a2)\n",
    "        difference = np.linalg.norm(weight_new - weight, ord=2)\n",
    "        weight = weight_new\n",
    "        i += 1           \n",
    "        #plt.plot(i, difference, 'ro')\n",
    "        #if(i % 1000 == 0):\n",
    "         #   print(\"Iteration: \" + str(i) + \". Difference: \" + str(difference))\n",
    "        if (difference < eps):\n",
    "            print(difference)\n",
    "            break\n",
    "    return weight"
   ]
  },
  {
   "cell_type": "code",
   "execution_count": 68,
   "metadata": {},
   "outputs": [
    {
     "name": "stdout",
     "output_type": "stream",
     "text": [
      "9.999893614876123e-07\n"
     ]
    }
   ],
   "source": [
    "weights_gradient = gradient_descent(add_bias(x_training), y_training, beta=10e-3, n0=10e-3, eps= 1 * 10e-07)"
   ]
  },
  {
   "cell_type": "code",
   "execution_count": 69,
   "metadata": {},
   "outputs": [
    {
     "data": {
      "image/png": "[encoded data removed]",
      "text/plain": [
       "<Figure size 432x288 with 1 Axes>"
      ]
     },
     "metadata": {
      "needs_background": "light"
     },
     "output_type": "display_data"
    },
    {
     "name": "stdout",
     "output_type": "stream",
     "text": [
      "1.4198490235042374\n"
     ]
    }
   ],
   "source": [
    "estimation_gradient = np.dot(add_bias(x_validation), weights_gradient)\n",
    "estimation_gradient = estimation_gradient[400:800]\n",
    "plt.plot(estimation_gradient, 'ro')\n",
    "plt.show()\n",
    "print(ms_err(estimation_gradient, y_validation))"
   ]
  },
  {
   "cell_type": "code",
   "execution_count": 70,
   "metadata": {},
   "outputs": [],
   "source": [
    "# Feature, number of words in string"
   ]
  },
  {
   "cell_type": "code",
   "execution_count": 113,
   "metadata": {},
   "outputs": [
    {
     "name": "stdout",
     "output_type": "stream",
     "text": [
      "[[0. 0. 0. ... 0. 0. 0.]\n",
      " [0. 0. 0. ... 0. 0. 0.]\n",
      " [1. 0. 0. ... 0. 0. 0.]\n",
      " ...\n",
      " [0. 0. 0. ... 0. 0. 0.]\n",
      " [0. 1. 1. ... 0. 0. 0.]\n",
      " [0. 0. 1. ... 0. 0. 0.]]\n"
     ]
    }
   ],
   "source": [
    "# Builds matrix x_feature\n",
    "x_feature_length = np.zeros((12000, 60))\n",
    "i = 0\n",
    "for data_point in data:\n",
    "    for word in data_point[\"text\"]:\n",
    "        if word in w:\n",
    "            x_feature_length[i, w[word]] += 1\n",
    "    i += 1\n",
    "np.shape(x_feature_length)\n",
    "x_feature_length.shape[1]\n",
    "print(x_feature_length)"
   ]
  },
  {
   "cell_type": "code",
   "execution_count": 108,
   "metadata": {},
   "outputs": [
    {
     "data": {
      "text/plain": [
       "array([3., 5., 5., ..., 0., 0., 0.])"
      ]
     },
     "execution_count": 108,
     "metadata": {},
     "output_type": "execute_result"
    }
   ],
   "source": [
    "# Finds words count\n",
    "word_counts = np.zeros(12000)\n",
    "i = 0\n",
    "for data_point in training_set:\n",
    "    word_counts[i] = len(data_point[\"text\"])\n",
    "    i += 1\n",
    "word_counts"
   ]
  },
  {
   "cell_type": "code",
   "execution_count": 109,
   "metadata": {},
   "outputs": [
    {
     "data": {
      "text/plain": [
       "(12000, 61)"
      ]
     },
     "execution_count": 109,
     "metadata": {},
     "output_type": "execute_result"
    }
   ],
   "source": [
    "x_feature_length = np.append(x_feature_length, is_admin, axis=1)\n",
    "\n",
    "x_feature_length.shape"
   ]
  },
  {
   "cell_type": "code",
   "execution_count": 110,
   "metadata": {},
   "outputs": [],
   "source": [
    "# Splits x into Traning, Validation, Test vectors\n",
    "x_training = x_feature_length[:10000]\n",
    "x_validation = x_feature_length[10000:11000]\n",
    "x_test = x_feature_length[11000:]\n",
    "y_validation = y[10000:11000]"
   ]
  },
  {
   "cell_type": "code",
   "execution_count": 111,
   "metadata": {},
   "outputs": [
    {
     "data": {
      "text/plain": [
       "array([1.25469816, 0.50981271, 0.3708268 , ..., 0.15810991, 0.89307136,\n",
       "       0.14033016])"
      ]
     },
     "execution_count": 111,
     "metadata": {},
     "output_type": "execute_result"
    }
   ],
   "source": [
    "y_training"
   ]
  },
  {
   "cell_type": "code",
   "execution_count": 112,
   "metadata": {},
   "outputs": [
    {
     "name": "stdout",
     "output_type": "stream",
     "text": [
      "1.2627887560526891\n"
     ]
    }
   ],
   "source": [
    "weights_closed = np.dot(np.dot(np.linalg.inv(np.dot(np.transpose(add_bias(x_training)), add_bias(x_training))), np.transpose(add_bias(x_training))), y_training)\n",
    "estimation_closed = np.dot(add_bias(x_validation), weights_closed)\n",
    "print(ms_err(estimation_closed, y_validation))"
   ]
  },
  {
   "cell_type": "code",
   "execution_count": null,
   "metadata": {},
   "outputs": [],
   "source": []
  }
 ],
 "metadata": {
  "kernelspec": {
   "display_name": "Python 3",
   "language": "python",
   "name": "python3"
  },
  "language_info": {
   "codemirror_mode": {
    "name": "ipython",
    "version": 3
   },
   "file_extension": ".py",
   "mimetype": "text/x-python",
   "name": "python",
   "nbconvert_exporter": "python",
   "pygments_lexer": "ipython3",
   "version": "3.7.1"
  }
 },
 "nbformat": 4,
 "nbformat_minor": 2
}
