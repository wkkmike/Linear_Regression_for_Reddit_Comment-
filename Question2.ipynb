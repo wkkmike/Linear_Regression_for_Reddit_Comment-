{
 "cells": [
  {
   "cell_type": "code",
   "execution_count": 68,
   "metadata": {},
   "outputs": [],
   "source": [
    "import json # we need to use the JSON package to load the data, since the data is stored in JSON format\n",
    "import numpy as np\n",
    "import matplotlib.pyplot as plt"
   ]
  },
  {
   "cell_type": "code",
   "execution_count": 69,
   "metadata": {},
   "outputs": [],
   "source": [
    "with open(\"proj1_data.json\") as fp:\n",
    "    data = json.load(fp)"
   ]
  },
  {
   "cell_type": "code",
   "execution_count": 70,
   "metadata": {},
   "outputs": [],
   "source": [
    "# Lowers every word's text, and split\n",
    "for data_point in data:\n",
    "    data_point[\"text\"] = data_point[\"text\"].lower().split()"
   ]
  },
  {
   "cell_type": "code",
   "execution_count": 71,
   "metadata": {},
   "outputs": [],
   "source": [
    "# Sets Traning, Validation, Test sets\n",
    "training_set = data[:10000]\n",
    "validation_set = data[10000:11000]\n",
    "test_set = data[11000:]"
   ]
  },
  {
   "cell_type": "code",
   "execution_count": 72,
   "metadata": {},
   "outputs": [],
   "source": [
    "# Finds words recurring number\n",
    "words_recurrence = {}\n",
    "for data_point in training_set:\n",
    "    for word in data_point[\"text\"]:\n",
    "        if word in words_recurrence:\n",
    "            words_recurrence[word] += 1\n",
    "        else:\n",
    "            words_recurrence[word] = 1"
   ]
  },
  {
   "cell_type": "code",
   "execution_count": 73,
   "metadata": {},
   "outputs": [],
   "source": [
    "# Sorts from high to low amd trim to size 160 \n",
    "words_recurrence = sorted(words_recurrence.items(), key=lambda kv: kv[1], reverse=True)\n",
    "del words_recurrence[160:]"
   ]
  },
  {
   "cell_type": "code",
   "execution_count": 74,
   "metadata": {},
   "outputs": [],
   "source": [
    "# The 160 most frequently occurring words (from 0 to 159)\n",
    "# Builds vector w\n",
    "w = {}\n",
    "i = 0\n",
    "for word in words_recurrence:\n",
    "    w[word[0]] = i\n",
    "    i += 1"
   ]
  },
  {
   "cell_type": "code",
   "execution_count": 75,
   "metadata": {},
   "outputs": [],
   "source": [
    "# Builds matrix x\n",
    "x = np.zeros((12000, 160))\n",
    "i = 0\n",
    "for data_point in data:\n",
    "    for word in data_point[\"text\"]:\n",
    "        if word in w:\n",
    "            x[i, w[word]] += 1\n",
    "    i += 1"
   ]
  },
  {
   "cell_type": "code",
   "execution_count": 76,
   "metadata": {},
   "outputs": [],
   "source": [
    "# Splits y into Traning, Validation, Test vectors\n",
    "x_training = x[:10000]\n",
    "x_validation = x[10000:11000]\n",
    "x_test = x[11000:]"
   ]
  },
  {
   "cell_type": "code",
   "execution_count": 77,
   "metadata": {},
   "outputs": [],
   "source": [
    "# Builds vector y\n",
    "y = np.zeros(12000)\n",
    "i = 0\n",
    "for data_point in data:\n",
    "    y[i] = data_point[\"popularity_score\"]\n",
    "    i += 1"
   ]
  },
  {
   "cell_type": "code",
   "execution_count": 78,
   "metadata": {},
   "outputs": [],
   "source": [
    "# Splits y into Traning, Validation, Test vectors\n",
    "y_training = y[:10000]\n",
    "y_validation = y[10000:11000]\n",
    "y_test = y[11000:]"
   ]
  },
  {
   "cell_type": "code",
   "execution_count": 79,
   "metadata": {},
   "outputs": [],
   "source": [
    "# Add Bias for x_training\n",
    "x_training_bias = np.ones((x_training.shape[0], x_training.shape[1]+1))\n",
    "x_training_bias[:,:-1] = x_training\n",
    "# Add Bias for x_validation\n",
    "x_validation_bias = np.ones((x_validation.shape[0], x_validation.shape[1]+1))\n",
    "x_validation_bias[:,:-1] = x_validation\n",
    "# Add Bias for x_test\n",
    "x_test_bias = np.ones((x_test.shape[0], x_test.shape[1]+1))\n",
    "x_test_bias[:,:-1] = x_test"
   ]
  },
  {
   "cell_type": "code",
   "execution_count": 80,
   "metadata": {},
   "outputs": [],
   "source": [
    "# Closed-form solution"
   ]
  },
  {
   "cell_type": "code",
   "execution_count": 81,
   "metadata": {},
   "outputs": [],
   "source": [
    "weights_closed = np.dot(np.dot(np.linalg.inv(np.dot(np.transpose(x_training_bias), x_training_bias)), np.transpose(x_training_bias)), y_training)\n",
    "estimation_closed = np.dot(x_validation_bias, weights_closed)"
   ]
  },
  {
   "cell_type": "code",
   "execution_count": 82,
   "metadata": {},
   "outputs": [
    {
     "data": {
      "image/png": "[encoded data removed]",
      "text/plain": [
       "<Figure size 432x288 with 1 Axes>"
      ]
     },
     "metadata": {
      "needs_background": "light"
     },
     "output_type": "display_data"
    }
   ],
   "source": [
    "estimation_closed = estimation_closed[400:800]\n",
    "plt.plot(estimation_closed, 'ro')\n",
    "plt.show()"
   ]
  },
  {
   "cell_type": "code",
   "execution_count": 83,
   "metadata": {},
   "outputs": [
    {
     "data": {
      "image/png": "[encoded data removed]",
      "text/plain": [
       "<Figure size 432x288 with 1 Axes>"
      ]
     },
     "metadata": {
      "needs_background": "light"
     },
     "output_type": "display_data"
    }
   ],
   "source": [
    "y_validation = y_validation[400:800]\n",
    "plt.plot( y_validation, 'ro')\n",
    "plt.show()"
   ]
  },
  {
   "cell_type": "code",
   "execution_count": 84,
   "metadata": {},
   "outputs": [],
   "source": [
    "# Gradient descent"
   ]
  },
  {
   "cell_type": "code",
   "execution_count": 85,
   "metadata": {},
   "outputs": [],
   "source": [
    "def gradient_descent(x, y, beta, n0, eps):\n",
    "    i = 1\n",
    "    weight = np.ones(x.shape[1])\n",
    "    x_transpose = np.transpose(x)\n",
    "    while True:\n",
    "        alpha = n0/(1+beta**i+10000)\n",
    "        weight_new = weight - 2*alpha * (x_transpose@x@weight - x_transpose@y)\n",
    "        difference = np.linalg.norm(weight_new - weight)\n",
    "        weight = weight_new\n",
    "        i += 1\n",
    "        plt.plot(i, difference, 'ro')\n",
    "        if (difference < eps):\n",
    "            break\n",
    "    return weight"
   ]
  },
  {
   "cell_type": "code",
   "execution_count": 86,
   "metadata": {},
   "outputs": [
    {
     "data": {
      "image/png": "[encoded data removed]",
      "text/plain": [
       "<Figure size 432x288 with 1 Axes>"
      ]
     },
     "metadata": {
      "needs_background": "light"
     },
     "output_type": "display_data"
    }
   ],
   "source": [
    "weights_gradient = gradient_descent(x_training_bias, y_training, beta=10e-4, n0=10e-6, eps=10e-05)"
   ]
  },
  {
   "cell_type": "code",
   "execution_count": 87,
   "metadata": {},
   "outputs": [
    {
     "data": {
      "image/png": "[encoded data removed]",
      "text/plain": [
       "<Figure size 432x288 with 1 Axes>"
      ]
     },
     "metadata": {
      "needs_background": "light"
     },
     "output_type": "display_data"
    }
   ],
   "source": [
    "estimation_gradient = np.dot(x_validation_bias, weights_gradient)\n",
    "estimation_gradient = estimation_gradient[400:800]\n",
    "plt.plot(estimation_gradient, 'ro')\n",
    "plt.show()"
   ]
  },
  {
   "cell_type": "code",
   "execution_count": null,
   "metadata": {},
   "outputs": [],
   "source": []
  }
 ],
 "metadata": {
  "kernelspec": {
   "display_name": "Python 3",
   "language": "python",
   "name": "python3"
  },
  "language_info": {
   "codemirror_mode": {
    "name": "ipython",
    "version": 3
   },
   "file_extension": ".py",
   "mimetype": "text/x-python",
   "name": "python",
   "nbconvert_exporter": "python",
   "pygments_lexer": "ipython3",
   "version": "3.7.1"
  }
 },
 "nbformat": 4,
 "nbformat_minor": 2
}
